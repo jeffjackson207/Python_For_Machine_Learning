{
 "cells": [
  {
   "metadata": {},
   "cell_type": "markdown",
   "source": [
    "# NumPy\n",
    "\n",
    "* Numpy is a Python library, that adds support for large, multi-dimensional arrays and matrices, along with a large collection of high-level mathematical functions to operate on these arrays.\n",
    "* For Numerical Computing; NumPy = Numerical Python"
   ],
   "id": "8a77807f92f26ee"
  },
  {
   "metadata": {},
   "cell_type": "markdown",
   "source": "Creating a Single Dimensional Array",
   "id": "29285fb03a001fdb"
  },
  {
   "metadata": {
    "ExecuteTime": {
     "end_time": "2025-09-17T20:44:16.722038Z",
     "start_time": "2025-09-17T20:44:16.716834Z"
    }
   },
   "cell_type": "code",
   "source": [
    "import numpy as np\n",
    "\n",
    "n1 = np.array([10, 20, 30, 40])\n",
    "n1"
   ],
   "id": "789dc0f9bb611cde",
   "outputs": [
    {
     "data": {
      "text/plain": [
       "array([10, 20, 30, 40])"
      ]
     },
     "execution_count": 10,
     "metadata": {},
     "output_type": "execute_result"
    }
   ],
   "execution_count": 10
  },
  {
   "metadata": {
    "ExecuteTime": {
     "end_time": "2025-09-17T20:43:27.385805Z",
     "start_time": "2025-09-17T20:43:27.381018Z"
    }
   },
   "cell_type": "code",
   "source": "type(n1) # this function returns the type of the array; which this is a NumPy N-Dimensional Array",
   "id": "1cf5c32a794553b8",
   "outputs": [
    {
     "data": {
      "text/plain": [
       "numpy.ndarray"
      ]
     },
     "execution_count": 8,
     "metadata": {},
     "output_type": "execute_result"
    }
   ],
   "execution_count": 8
  },
  {
   "metadata": {},
   "cell_type": "markdown",
   "source": "Creating a Multi-Dimensional Array",
   "id": "c982d399265001b8"
  },
  {
   "metadata": {
    "ExecuteTime": {
     "end_time": "2025-09-17T20:43:30.927177Z",
     "start_time": "2025-09-17T20:43:30.920353Z"
    }
   },
   "cell_type": "code",
   "source": [
    "import numpy as np\n",
    "\n",
    "n2 = np.array([[10, 20, 30, 40], [40, 50, 60, 10]])\n",
    "n2"
   ],
   "id": "92834c30d7a5bdb0",
   "outputs": [
    {
     "data": {
      "text/plain": [
       "array([[10, 20, 30, 40],\n",
       "       [40, 50, 60, 10]])"
      ]
     },
     "execution_count": 9,
     "metadata": {},
     "output_type": "execute_result"
    }
   ],
   "execution_count": 9
  },
  {
   "metadata": {
    "ExecuteTime": {
     "end_time": "2025-09-17T20:41:44.363548Z",
     "start_time": "2025-09-17T20:41:44.358716Z"
    }
   },
   "cell_type": "code",
   "source": "type(n2)",
   "id": "ca9c1c096bdb838e",
   "outputs": [
    {
     "data": {
      "text/plain": [
       "numpy.ndarray"
      ]
     },
     "execution_count": 4,
     "metadata": {},
     "output_type": "execute_result"
    }
   ],
   "execution_count": 4
  },
  {
   "metadata": {},
   "cell_type": "markdown",
   "source": "Extracting Elements",
   "id": "6fc6f815210dc687"
  },
  {
   "metadata": {
    "ExecuteTime": {
     "end_time": "2025-09-17T20:41:51.523729Z",
     "start_time": "2025-09-17T20:41:51.520259Z"
    }
   },
   "cell_type": "code",
   "source": "n1",
   "id": "cd4941bf6805d8ac",
   "outputs": [
    {
     "data": {
      "text/plain": [
       "array([10, 20, 30, 40])"
      ]
     },
     "execution_count": 5,
     "metadata": {},
     "output_type": "execute_result"
    }
   ],
   "execution_count": 5
  },
  {
   "metadata": {
    "ExecuteTime": {
     "end_time": "2025-09-17T20:45:03.074345Z",
     "start_time": "2025-09-17T20:45:03.069809Z"
    }
   },
   "cell_type": "code",
   "source": "n1[0]",
   "id": "82527046a1c4c3ba",
   "outputs": [
    {
     "data": {
      "text/plain": [
       "np.int64(10)"
      ]
     },
     "execution_count": 12,
     "metadata": {},
     "output_type": "execute_result"
    }
   ],
   "execution_count": 12
  },
  {
   "metadata": {
    "ExecuteTime": {
     "end_time": "2025-09-17T20:47:41.086167Z",
     "start_time": "2025-09-17T20:47:41.079859Z"
    }
   },
   "cell_type": "code",
   "source": "n1[1:3] # calling out the 1 and 3 locations (positions) within the list.",
   "id": "5cdc65b19d8f0520",
   "outputs": [
    {
     "data": {
      "text/plain": [
       "array([20, 30])"
      ]
     },
     "execution_count": 15,
     "metadata": {},
     "output_type": "execute_result"
    }
   ],
   "execution_count": 15
  },
  {
   "metadata": {
    "ExecuteTime": {
     "end_time": "2025-09-17T20:45:05.398464Z",
     "start_time": "2025-09-17T20:45:05.392072Z"
    }
   },
   "cell_type": "code",
   "source": "n2",
   "id": "15d2f758c7ac04bf",
   "outputs": [
    {
     "data": {
      "text/plain": [
       "array([[10, 20, 30, 40],\n",
       "       [40, 50, 60, 10]])"
      ]
     },
     "execution_count": 14,
     "metadata": {},
     "output_type": "execute_result"
    }
   ],
   "execution_count": 14
  },
  {
   "metadata": {
    "ExecuteTime": {
     "end_time": "2025-09-17T20:47:45.439742Z",
     "start_time": "2025-09-17T20:47:45.435651Z"
    }
   },
   "cell_type": "code",
   "source": "n2[0,0]",
   "id": "aa3941b1ef2578a2",
   "outputs": [
    {
     "data": {
      "text/plain": [
       "np.int64(10)"
      ]
     },
     "execution_count": 16,
     "metadata": {},
     "output_type": "execute_result"
    }
   ],
   "execution_count": 16
  },
  {
   "metadata": {
    "ExecuteTime": {
     "end_time": "2025-09-17T20:47:55.690326Z",
     "start_time": "2025-09-17T20:47:55.684334Z"
    }
   },
   "cell_type": "code",
   "source": "n2[0]",
   "id": "5c022881bd01e2d3",
   "outputs": [
    {
     "data": {
      "text/plain": [
       "array([10, 20, 30, 40])"
      ]
     },
     "execution_count": 17,
     "metadata": {},
     "output_type": "execute_result"
    }
   ],
   "execution_count": 17
  },
  {
   "metadata": {
    "ExecuteTime": {
     "end_time": "2025-09-17T20:48:02.958944Z",
     "start_time": "2025-09-17T20:48:02.954316Z"
    }
   },
   "cell_type": "code",
   "source": "n2[1,3]",
   "id": "fc7e153139de4cb4",
   "outputs": [
    {
     "data": {
      "text/plain": [
       "np.int64(10)"
      ]
     },
     "execution_count": 18,
     "metadata": {},
     "output_type": "execute_result"
    }
   ],
   "execution_count": 18
  },
  {
   "metadata": {},
   "cell_type": "markdown",
   "source": [
    "np.zeros\n",
    "* this function creates an array of zeros"
   ],
   "id": "33951c045059e0f0"
  },
  {
   "metadata": {
    "ExecuteTime": {
     "end_time": "2025-09-17T20:48:54.471953Z",
     "start_time": "2025-09-17T20:48:54.463348Z"
    }
   },
   "cell_type": "code",
   "source": [
    "import numpy as np\n",
    "n1 = np.zeros((1,2)) #(1,2) means 1 row and 2 columns in the array.\n",
    "n1"
   ],
   "id": "38bb0635ecfb0d16",
   "outputs": [
    {
     "data": {
      "text/plain": [
       "array([[0., 0.]])"
      ]
     },
     "execution_count": 19,
     "metadata": {},
     "output_type": "execute_result"
    }
   ],
   "execution_count": 19
  },
  {
   "metadata": {
    "ExecuteTime": {
     "end_time": "2025-09-17T20:49:19.663753Z",
     "start_time": "2025-09-17T20:49:19.658971Z"
    }
   },
   "cell_type": "code",
   "source": [
    "import numpy as np\n",
    "n1 = np.zeros((5,5))\n",
    "n1"
   ],
   "id": "ef5bd9bc5facb6c5",
   "outputs": [
    {
     "data": {
      "text/plain": [
       "array([[0., 0., 0., 0., 0.],\n",
       "       [0., 0., 0., 0., 0.],\n",
       "       [0., 0., 0., 0., 0.],\n",
       "       [0., 0., 0., 0., 0.],\n",
       "       [0., 0., 0., 0., 0.]])"
      ]
     },
     "execution_count": 20,
     "metadata": {},
     "output_type": "execute_result"
    }
   ],
   "execution_count": 20
  },
  {
   "metadata": {
    "ExecuteTime": {
     "end_time": "2025-09-17T20:50:07.078077Z",
     "start_time": "2025-09-17T20:50:07.071526Z"
    }
   },
   "cell_type": "code",
   "source": [
    "import numpy as np\n",
    "n3 = np.zeros((2,3))\n",
    "n3"
   ],
   "id": "b1683b2d3a37c400",
   "outputs": [
    {
     "data": {
      "text/plain": [
       "array([[0., 0., 0.],\n",
       "       [0., 0., 0.]])"
      ]
     },
     "execution_count": 21,
     "metadata": {},
     "output_type": "execute_result"
    }
   ],
   "execution_count": 21
  },
  {
   "metadata": {
    "ExecuteTime": {
     "end_time": "2025-09-17T20:50:31.492435Z",
     "start_time": "2025-09-17T20:50:31.488702Z"
    }
   },
   "cell_type": "code",
   "source": [
    "n4 = np.zeros((6,6))\n",
    "n4"
   ],
   "id": "2f7e487d509b0fe6",
   "outputs": [
    {
     "data": {
      "text/plain": [
       "array([[0., 0., 0., 0., 0., 0.],\n",
       "       [0., 0., 0., 0., 0., 0.],\n",
       "       [0., 0., 0., 0., 0., 0.],\n",
       "       [0., 0., 0., 0., 0., 0.],\n",
       "       [0., 0., 0., 0., 0., 0.],\n",
       "       [0., 0., 0., 0., 0., 0.]])"
      ]
     },
     "execution_count": 22,
     "metadata": {},
     "output_type": "execute_result"
    }
   ],
   "execution_count": 22
  },
  {
   "metadata": {},
   "cell_type": "markdown",
   "source": [
    "np.full\n",
    "* this function creates an array of a specified value"
   ],
   "id": "fafc5a2aaafedd11"
  },
  {
   "metadata": {
    "ExecuteTime": {
     "end_time": "2025-09-17T20:50:58.378303Z",
     "start_time": "2025-09-17T20:50:58.373375Z"
    }
   },
   "cell_type": "code",
   "source": [
    "import numpy as np\n",
    "n1 = np.full((2,2), 10)\n",
    "n1"
   ],
   "id": "28bf4f6f4db242b",
   "outputs": [
    {
     "data": {
      "text/plain": [
       "array([[10, 10],\n",
       "       [10, 10]])"
      ]
     },
     "execution_count": 23,
     "metadata": {},
     "output_type": "execute_result"
    }
   ],
   "execution_count": 23
  },
  {
   "metadata": {
    "ExecuteTime": {
     "end_time": "2025-09-17T20:51:49.451853Z",
     "start_time": "2025-09-17T20:51:49.445738Z"
    }
   },
   "cell_type": "code",
   "source": [
    "n5 = np.full((3,3),(5)) # showing all values filled with 5, across the 3 by 3 matrix\n",
    "n5"
   ],
   "id": "f162c1ff4f97e881",
   "outputs": [
    {
     "data": {
      "text/plain": [
       "array([[5, 5, 5],\n",
       "       [5, 5, 5],\n",
       "       [5, 5, 5]])"
      ]
     },
     "execution_count": 24,
     "metadata": {},
     "output_type": "execute_result"
    }
   ],
   "execution_count": 24
  },
  {
   "metadata": {
    "ExecuteTime": {
     "end_time": "2025-09-17T20:52:48.461571Z",
     "start_time": "2025-09-17T20:52:48.455768Z"
    }
   },
   "cell_type": "code",
   "source": [
    "n6 = np.full((3,6), (9))\n",
    "n6"
   ],
   "id": "f00fc72af6dbea33",
   "outputs": [
    {
     "data": {
      "text/plain": [
       "array([[9, 9, 9, 9, 9, 9],\n",
       "       [9, 9, 9, 9, 9, 9],\n",
       "       [9, 9, 9, 9, 9, 9]])"
      ]
     },
     "execution_count": 25,
     "metadata": {},
     "output_type": "execute_result"
    }
   ],
   "execution_count": 25
  },
  {
   "metadata": {},
   "cell_type": "markdown",
   "source": "Initializing Numpy array with a range",
   "id": "7a6870e2f9e2a132"
  },
  {
   "metadata": {
    "ExecuteTime": {
     "end_time": "2025-09-17T20:56:33.345797Z",
     "start_time": "2025-09-17T20:56:33.340884Z"
    }
   },
   "cell_type": "code",
   "source": [
    "import numpy as np\n",
    "n1 = np.arange(10,20) # Counting 10 to 20, but doesn't count 20. First parameter is inclusive, but the second is exclusive.\n",
    "n1"
   ],
   "id": "97719a69c5c3a518",
   "outputs": [
    {
     "data": {
      "text/plain": [
       "array([10, 11, 12, 13, 14, 15, 16, 17, 18, 19])"
      ]
     },
     "execution_count": 28,
     "metadata": {},
     "output_type": "execute_result"
    }
   ],
   "execution_count": 28
  },
  {
   "metadata": {
    "ExecuteTime": {
     "end_time": "2025-09-17T20:54:53.062268Z",
     "start_time": "2025-09-17T20:54:53.058414Z"
    }
   },
   "cell_type": "code",
   "source": [
    "import numpy as np\n",
    "n1 = np.arange(10,50,5) # Counting 10 to 50, but counting by 5. Notice it doesn't show 50.\n",
    "n1"
   ],
   "id": "40ab35ca8b1eb623",
   "outputs": [
    {
     "data": {
      "text/plain": [
       "array([10, 15, 20, 25, 30, 35, 40, 45])"
      ]
     },
     "execution_count": 27,
     "metadata": {},
     "output_type": "execute_result"
    }
   ],
   "execution_count": 27
  },
  {
   "metadata": {
    "ExecuteTime": {
     "end_time": "2025-09-17T20:57:37.904921Z",
     "start_time": "2025-09-17T20:57:37.899743Z"
    }
   },
   "cell_type": "code",
   "source": [
    "n1 = np.arange(10,51) # if I wanted to include 50.\n",
    "n1"
   ],
   "id": "4e64ee5f3a894eab",
   "outputs": [
    {
     "data": {
      "text/plain": [
       "array([10, 11, 12, 13, 14, 15, 16, 17, 18, 19, 20, 21, 22, 23, 24, 25, 26,\n",
       "       27, 28, 29, 30, 31, 32, 33, 34, 35, 36, 37, 38, 39, 40, 41, 42, 43,\n",
       "       44, 45, 46, 47, 48, 49, 50])"
      ]
     },
     "execution_count": 30,
     "metadata": {},
     "output_type": "execute_result"
    }
   ],
   "execution_count": 30
  },
  {
   "metadata": {
    "ExecuteTime": {
     "end_time": "2025-09-17T20:58:15.413471Z",
     "start_time": "2025-09-17T20:58:15.409219Z"
    }
   },
   "cell_type": "code",
   "source": [
    "n2 = np.arange(1,105,10) # skip value of 10.\n",
    "n2"
   ],
   "id": "8b217050a522ec97",
   "outputs": [
    {
     "data": {
      "text/plain": [
       "array([  1,  11,  21,  31,  41,  51,  61,  71,  81,  91, 101])"
      ]
     },
     "execution_count": 33,
     "metadata": {},
     "output_type": "execute_result"
    }
   ],
   "execution_count": 33
  },
  {
   "metadata": {},
   "cell_type": "markdown",
   "source": [
    "Initialize NumPy array with random numbers (np.randit)\n",
    "* this function creates an array of random values"
   ],
   "id": "14508e86d73aaa8c"
  },
  {
   "metadata": {
    "ExecuteTime": {
     "end_time": "2025-09-17T20:59:04.681834Z",
     "start_time": "2025-09-17T20:59:02.086951Z"
    }
   },
   "cell_type": "code",
   "source": [
    "import numpy as np\n",
    "n1 = np.random.randint(1,100,5)\n",
    "n1"
   ],
   "id": "566a1fe4b889741a",
   "outputs": [
    {
     "data": {
      "text/plain": [
       "array([90, 26, 66, 38, 62])"
      ]
     },
     "execution_count": 34,
     "metadata": {},
     "output_type": "execute_result"
    }
   ],
   "execution_count": 34
  },
  {
   "metadata": {
    "ExecuteTime": {
     "end_time": "2025-09-17T20:59:49.553156Z",
     "start_time": "2025-09-17T20:59:49.546197Z"
    }
   },
   "cell_type": "code",
   "source": [
    "n1 = np.random.randint(100,1000,10)\n",
    "n1"
   ],
   "id": "687374c973bd921e",
   "outputs": [
    {
     "data": {
      "text/plain": [
       "array([950, 679, 765, 705, 304, 855, 575, 365, 617, 814])"
      ]
     },
     "execution_count": 35,
     "metadata": {},
     "output_type": "execute_result"
    }
   ],
   "execution_count": 35
  },
  {
   "metadata": {},
   "cell_type": "markdown",
   "source": [
    "NumPy Shape\n",
    "* this function returns the shape of the array"
   ],
   "id": "9ca5e5de602263fe"
  },
  {
   "metadata": {
    "ExecuteTime": {
     "end_time": "2025-09-17T21:02:07.870362Z",
     "start_time": "2025-09-17T21:02:07.866381Z"
    }
   },
   "cell_type": "code",
   "source": [
    "import numpy as np\n",
    "n1 = np.array([[1,2,3],[4,5,6]])\n",
    "n1.shape"
   ],
   "id": "37bdffde7270c30d",
   "outputs": [
    {
     "data": {
      "text/plain": [
       "(2, 3)"
      ]
     },
     "execution_count": 38,
     "metadata": {},
     "output_type": "execute_result"
    }
   ],
   "execution_count": 38
  },
  {
   "metadata": {
    "ExecuteTime": {
     "end_time": "2025-09-17T21:02:32.736610Z",
     "start_time": "2025-09-17T21:02:32.733521Z"
    }
   },
   "cell_type": "code",
   "source": "n1 = np.array([[1,2,3],[4,5,6]])",
   "id": "29ca13ae699c6ff6",
   "outputs": [],
   "execution_count": 40
  },
  {
   "metadata": {
    "ExecuteTime": {
     "end_time": "2025-09-17T21:02:39.850259Z",
     "start_time": "2025-09-17T21:02:39.844201Z"
    }
   },
   "cell_type": "code",
   "source": "n1",
   "id": "54b994b130baf9c1",
   "outputs": [
    {
     "data": {
      "text/plain": [
       "array([[1, 2, 3],\n",
       "       [4, 5, 6]])"
      ]
     },
     "execution_count": 41,
     "metadata": {},
     "output_type": "execute_result"
    }
   ],
   "execution_count": 41
  },
  {
   "metadata": {
    "ExecuteTime": {
     "end_time": "2025-09-17T21:02:53.114636Z",
     "start_time": "2025-09-17T21:02:53.110010Z"
    }
   },
   "cell_type": "code",
   "source": "n1.shape",
   "id": "3fe84ebdc799f71b",
   "outputs": [
    {
     "data": {
      "text/plain": [
       "(2, 3)"
      ]
     },
     "execution_count": 42,
     "metadata": {},
     "output_type": "execute_result"
    }
   ],
   "execution_count": 42
  },
  {
   "metadata": {
    "ExecuteTime": {
     "end_time": "2025-09-17T21:03:23.114706Z",
     "start_time": "2025-09-17T21:03:23.105724Z"
    }
   },
   "cell_type": "code",
   "source": [
    "n1.shape = (3,2) # changing the sape of the array\n",
    "n1.shape"
   ],
   "id": "5d42bf8b10b57a4",
   "outputs": [
    {
     "data": {
      "text/plain": [
       "(3, 2)"
      ]
     },
     "execution_count": 43,
     "metadata": {},
     "output_type": "execute_result"
    }
   ],
   "execution_count": 43
  },
  {
   "metadata": {},
   "cell_type": "markdown",
   "source": "Stacking (Joining) NumPy Arrays",
   "id": "113ed0811ecd3b45"
  },
  {
   "metadata": {
    "ExecuteTime": {
     "end_time": "2025-09-18T13:10:39.136749Z",
     "start_time": "2025-09-18T13:10:39.131070Z"
    }
   },
   "cell_type": "code",
   "source": [
    "# vstack() - Vertical Stacking\n",
    "import numpy as np\n",
    "n1 = np.array([10,20,30])\n",
    "n2 = np.array([40,50,60])\n",
    "\n",
    "np.vstack((n1,n2))"
   ],
   "id": "3429567f85451624",
   "outputs": [
    {
     "data": {
      "text/plain": [
       "array([[10, 20, 30],\n",
       "       [40, 50, 60]])"
      ]
     },
     "execution_count": 47,
     "metadata": {},
     "output_type": "execute_result"
    }
   ],
   "execution_count": 47
  },
  {
   "metadata": {
    "ExecuteTime": {
     "end_time": "2025-09-18T13:10:47.916324Z",
     "start_time": "2025-09-18T13:10:47.911320Z"
    }
   },
   "cell_type": "code",
   "source": [
    "# hstack() - Horizontal Stacking\n",
    "import numpy as np\n",
    "n1 = np.array([10,20,30])\n",
    "n2 = np.array([40,50,60])\n",
    "\n",
    "np.hstack((n1,n2))"
   ],
   "id": "5defed296c2e54f2",
   "outputs": [
    {
     "data": {
      "text/plain": [
       "array([10, 20, 30, 40, 50, 60])"
      ]
     },
     "execution_count": 48,
     "metadata": {},
     "output_type": "execute_result"
    }
   ],
   "execution_count": 48
  },
  {
   "metadata": {
    "ExecuteTime": {
     "end_time": "2025-09-18T13:11:02.665009Z",
     "start_time": "2025-09-18T13:11:02.659835Z"
    }
   },
   "cell_type": "code",
   "source": [
    "# column_stack() - Stacking in Columns\n",
    "import numpy as np\n",
    "n1 = np.array([10,20,30])\n",
    "n2 = np.array([40,50,60])\n",
    "\n",
    "np.column_stack((n1,n2))"
   ],
   "id": "bc94ab1f88697c1f",
   "outputs": [
    {
     "data": {
      "text/plain": [
       "array([[10, 40],\n",
       "       [20, 50],\n",
       "       [30, 60]])"
      ]
     },
     "execution_count": 49,
     "metadata": {},
     "output_type": "execute_result"
    }
   ],
   "execution_count": 49
  },
  {
   "metadata": {},
   "cell_type": "markdown",
   "source": [
    "NumPy Intersections and Differences\n",
    "\n",
    "* The Intersection function finds the common values between the two arrays.\n",
    "\n",
    "* The Difference function says \"I want to see what values are unique in this array).  So np.setdiff1d(n1,n2) will find the values that are unique in n1, compared to n2. It will not list any unique values in n2, only n1. n2 is used to compare against"
   ],
   "id": "a1768831ae1b0982",
   "attachments": {
    "5b631570-f47d-4ad6-9c21-a712c7ebdacc.png": {
     "image/png": "[encoded data removed]"
    },
    "28b977b2-8404-43de-a0cf-9487c15d6759.png": {
     "image/png": "[encoded data removed]"
    }
   }
  },
  {
   "metadata": {
    "ExecuteTime": {
     "end_time": "2025-09-18T13:27:24.920378Z",
     "start_time": "2025-09-18T13:27:24.914077Z"
    }
   },
   "cell_type": "code",
   "source": [
    "import numpy as np\n",
    "n1 = np.array([10,20,30,40,50,60])\n",
    "n2 = np.array([50,60,70,80,90])\n",
    "\n",
    "np.intersect1d(n1,n2)"
   ],
   "id": "7a3d10db92a74a75",
   "outputs": [
    {
     "data": {
      "text/plain": [
       "array([50, 60])"
      ]
     },
     "execution_count": 56,
     "metadata": {},
     "output_type": "execute_result"
    }
   ],
   "execution_count": 56
  },
  {
   "metadata": {
    "ExecuteTime": {
     "end_time": "2025-09-18T13:25:46.673628Z",
     "start_time": "2025-09-18T13:25:46.654166Z"
    }
   },
   "cell_type": "code",
   "source": [
    "import numpy as np\n",
    "n1 = np.array([10,20,30,40,50,60])\n",
    "n2 = np.array([50,60,70,80,90])\n",
    "\n",
    "np.setdiff1d(n1,n2)"
   ],
   "id": "1dcff554086a9a1e",
   "outputs": [
    {
     "data": {
      "text/plain": [
       "array([10, 20, 30, 40])"
      ]
     },
     "execution_count": 53,
     "metadata": {},
     "output_type": "execute_result"
    }
   ],
   "execution_count": 53
  },
  {
   "metadata": {
    "ExecuteTime": {
     "end_time": "2025-09-18T13:25:59.259614Z",
     "start_time": "2025-09-18T13:25:59.252404Z"
    }
   },
   "cell_type": "code",
   "source": [
    "import numpy as np\n",
    "n1 = np.array([10,20,30,40,50,60])\n",
    "n2 = np.array([50,60,70,80,90])\n",
    "\n",
    "np.setdiff1d(n2,n1)"
   ],
   "id": "32d38c8fc699d0d4",
   "outputs": [
    {
     "data": {
      "text/plain": [
       "array([70, 80, 90])"
      ]
     },
     "execution_count": 54,
     "metadata": {},
     "output_type": "execute_result"
    }
   ],
   "execution_count": 54
  },
  {
   "metadata": {},
   "cell_type": "markdown",
   "source": [
    "NumPy Sum (Addition of Numpy Arrays)\n",
    "* This function returns the sum of the array\n",
    "* np.sum([n1,n2]) will sum all of the numbers in the arrays.\n",
    "* np.sum([n1,n2], axis=0) will sum the array values vertically.\n",
    "* np.sum([n1,n2], axis=1) will sum the array values horizontally."
   ],
   "id": "4d4ea6e2af676f24",
   "attachments": {
    "0175ad23-9a46-4308-8f48-b9a2f1942d48.png": {
     "image/png": "[encoded data removed]"
    }
   }
  },
  {
   "metadata": {
    "ExecuteTime": {
     "end_time": "2025-09-18T17:56:43.029902Z",
     "start_time": "2025-09-18T17:56:43.024801Z"
    }
   },
   "cell_type": "code",
   "source": [
    "import numpy as np\n",
    "n1 = np.array([10,20])\n",
    "n2 = np.array([30,40])\n",
    "\n",
    "np.sum([n1,n2]) # If I want only the 100 value, use np.sum([n1, n2]).item()"
   ],
   "id": "d9940ad7e03ba9e",
   "outputs": [
    {
     "data": {
      "text/plain": [
       "np.int64(100)"
      ]
     },
     "execution_count": 63,
     "metadata": {},
     "output_type": "execute_result"
    }
   ],
   "execution_count": 63
  },
  {
   "metadata": {
    "ExecuteTime": {
     "end_time": "2025-09-18T17:54:28.898596Z",
     "start_time": "2025-09-18T17:54:28.893464Z"
    }
   },
   "cell_type": "code",
   "source": "np.sum([n1,n2],axis = 0)",
   "id": "65abdfa320b81566",
   "outputs": [
    {
     "data": {
      "text/plain": [
       "array([40, 60])"
      ]
     },
     "execution_count": 58,
     "metadata": {},
     "output_type": "execute_result"
    }
   ],
   "execution_count": 58
  },
  {
   "metadata": {
    "ExecuteTime": {
     "end_time": "2025-09-18T17:54:30.822555Z",
     "start_time": "2025-09-18T17:54:30.818234Z"
    }
   },
   "cell_type": "code",
   "source": "np.sum([n1,n2],axis = 1)",
   "id": "d1bb74ab4936a824",
   "outputs": [
    {
     "data": {
      "text/plain": [
       "array([30, 70])"
      ]
     },
     "execution_count": 59,
     "metadata": {},
     "output_type": "execute_result"
    }
   ],
   "execution_count": 59
  },
  {
   "metadata": {},
   "cell_type": "markdown",
   "source": "NumPy Sum with Scalar Values",
   "id": "4c2a1b37da3f5770"
  },
  {
   "metadata": {
    "ExecuteTime": {
     "end_time": "2025-09-18T19:10:54.084138Z",
     "start_time": "2025-09-18T19:10:54.075008Z"
    }
   },
   "cell_type": "code",
   "source": [
    "# Basic Addition\n",
    "import numpy as np\n",
    "n1 = np.array([10,20,30])\n",
    "n1 = n1+1\n",
    "n1"
   ],
   "id": "b922424be184131",
   "outputs": [
    {
     "data": {
      "text/plain": [
       "array([11, 21, 31])"
      ]
     },
     "execution_count": 64,
     "metadata": {},
     "output_type": "execute_result"
    }
   ],
   "execution_count": 64
  },
  {
   "metadata": {
    "ExecuteTime": {
     "end_time": "2025-09-18T19:11:31.288361Z",
     "start_time": "2025-09-18T19:11:31.283734Z"
    }
   },
   "cell_type": "code",
   "source": [
    "# Basic Multiplication\n",
    "import numpy as np\n",
    "n1 = np.array([10,20,30])\n",
    "n1 = n1*2\n",
    "n1"
   ],
   "id": "9c2434fca7d4e066",
   "outputs": [
    {
     "data": {
      "text/plain": [
       "array([20, 40, 60])"
      ]
     },
     "execution_count": 65,
     "metadata": {},
     "output_type": "execute_result"
    }
   ],
   "execution_count": 65
  },
  {
   "metadata": {
    "ExecuteTime": {
     "end_time": "2025-09-18T19:11:44.754695Z",
     "start_time": "2025-09-18T19:11:44.750326Z"
    }
   },
   "cell_type": "code",
   "source": [
    "# Basic Subtraction\n",
    "import numpy as np\n",
    "n1 = np.array([10,20,30])\n",
    "n1 = n1-1\n",
    "n1"
   ],
   "id": "bf04bae607927468",
   "outputs": [
    {
     "data": {
      "text/plain": [
       "array([ 9, 19, 29])"
      ]
     },
     "execution_count": 66,
     "metadata": {},
     "output_type": "execute_result"
    }
   ],
   "execution_count": 66
  },
  {
   "metadata": {
    "ExecuteTime": {
     "end_time": "2025-09-18T19:11:59.772005Z",
     "start_time": "2025-09-18T19:11:59.766488Z"
    }
   },
   "cell_type": "code",
   "source": [
    "# Basic Division\n",
    "import numpy as np\n",
    "n1 = np.array([10,20,30])\n",
    "n1 = n1/2\n",
    "n1"
   ],
   "id": "13c4eef8dfff9a7c",
   "outputs": [
    {
     "data": {
      "text/plain": [
       "array([ 5., 10., 15.])"
      ]
     },
     "execution_count": 67,
     "metadata": {},
     "output_type": "execute_result"
    }
   ],
   "execution_count": 67
  },
  {
   "metadata": {},
   "cell_type": "markdown",
   "source": "Numpy Math Functions (Mean, Median, and Standard Deviation)",
   "id": "7483772046621061"
  },
  {
   "metadata": {
    "ExecuteTime": {
     "end_time": "2025-09-18T19:17:45.981216Z",
     "start_time": "2025-09-18T19:17:45.976207Z"
    }
   },
   "cell_type": "code",
   "source": [
    "import numpy as np\n",
    "n1 = np.array([10,20,30,40,50,60])\n",
    "np.mean(n1).item()"
   ],
   "id": "f1a1583d6d3ab1dc",
   "outputs": [
    {
     "data": {
      "text/plain": [
       "35.0"
      ]
     },
     "execution_count": 69,
     "metadata": {},
     "output_type": "execute_result"
    }
   ],
   "execution_count": 69
  },
  {
   "metadata": {
    "ExecuteTime": {
     "end_time": "2025-09-18T19:18:43.673637Z",
     "start_time": "2025-09-18T19:18:43.667432Z"
    }
   },
   "cell_type": "code",
   "source": [
    "import numpy as np\n",
    "n1 = np.array([11,44,5,96,67,85])\n",
    "np.median(n1).item()"
   ],
   "id": "8f6a2e1d8d52aef3",
   "outputs": [
    {
     "data": {
      "text/plain": [
       "55.5"
      ]
     },
     "execution_count": 70,
     "metadata": {},
     "output_type": "execute_result"
    }
   ],
   "execution_count": 70
  },
  {
   "metadata": {
    "ExecuteTime": {
     "end_time": "2025-09-18T19:19:18.487587Z",
     "start_time": "2025-09-18T19:19:18.479341Z"
    }
   },
   "cell_type": "code",
   "source": [
    "import numpy as np\n",
    "n1 = np.array([1,5,3,100,4,48])\n",
    "np.std(n1).item()"
   ],
   "id": "29bd406f3fc34d14",
   "outputs": [
    {
     "data": {
      "text/plain": [
       "36.59424666377065"
      ]
     },
     "execution_count": 71,
     "metadata": {},
     "output_type": "execute_result"
    }
   ],
   "execution_count": 71
  },
  {
   "metadata": {},
   "cell_type": "markdown",
   "source": [
    "Numpy Save & Load\n",
    "* Use this to save an array to a file, and load it back into memory, in another session."
   ],
   "id": "8343bf1bddb877ec"
  },
  {
   "metadata": {
    "ExecuteTime": {
     "end_time": "2025-09-18T19:27:02.470052Z",
     "start_time": "2025-09-18T19:27:02.464767Z"
    }
   },
   "cell_type": "code",
   "source": [
    "import numpy as np\n",
    "n1 = np.array([10,20,30,40,50,60])\n",
    "np.save('my_numpy',n1)"
   ],
   "id": "ea1f71d3f0f7484b",
   "outputs": [],
   "execution_count": 74
  },
  {
   "metadata": {
    "ExecuteTime": {
     "end_time": "2025-09-18T19:27:04.710220Z",
     "start_time": "2025-09-18T19:27:04.703162Z"
    }
   },
   "cell_type": "code",
   "source": [
    "n2 = np.load('my_numpy.npy')\n",
    "n2"
   ],
   "id": "f680af3076fe08b0",
   "outputs": [
    {
     "data": {
      "text/plain": [
       "array([10, 20, 30, 40, 50, 60])"
      ]
     },
     "execution_count": 75,
     "metadata": {},
     "output_type": "execute_result"
    }
   ],
   "execution_count": 75
  },
  {
   "metadata": {},
   "cell_type": "markdown",
   "source": [
    "Numpy Comparison\n",
    "* this function returns the comparison of the array"
   ],
   "id": "1997b0688c595d35"
  },
  {
   "metadata": {
    "ExecuteTime": {
     "end_time": "2025-09-18T20:08:19.065825Z",
     "start_time": "2025-09-18T20:08:19.049305Z"
    }
   },
   "cell_type": "code",
   "source": [
    "import numpy as np\n",
    "n1 = np.array([10,20,30])\n",
    "n2 = np.array([10,20,30])\n",
    "\n",
    "np.equal(n1,n2) # Vertical comparison of values in the arrays."
   ],
   "id": "b98f05b242f0a0c5",
   "outputs": [
    {
     "data": {
      "text/plain": [
       "array([ True,  True,  True])"
      ]
     },
     "execution_count": 76,
     "metadata": {},
     "output_type": "execute_result"
    }
   ],
   "execution_count": 76
  },
  {
   "metadata": {
    "ExecuteTime": {
     "end_time": "2025-09-18T20:09:09.368119Z",
     "start_time": "2025-09-18T20:09:09.362577Z"
    }
   },
   "cell_type": "code",
   "source": [
    "import numpy as np\n",
    "n1 = np.array([10,20,20])\n",
    "n2 = np.array([10,30,30])\n",
    "\n",
    "np.equal(n1,n2) # Vertical comparison of values in the arrays."
   ],
   "id": "151e2f78efd0cd08",
   "outputs": [
    {
     "data": {
      "text/plain": [
       "array([ True, False, False])"
      ]
     },
     "execution_count": 77,
     "metadata": {},
     "output_type": "execute_result"
    }
   ],
   "execution_count": 77
  },
  {
   "metadata": {
    "ExecuteTime": {
     "end_time": "2025-09-18T20:09:42.116816Z",
     "start_time": "2025-09-18T20:09:42.107108Z"
    }
   },
   "cell_type": "code",
   "source": [
    "import numpy as np\n",
    "n1 = np.array([10,20,20])\n",
    "n2 = np.array([10,30,30])\n",
    "\n",
    "np.array_equal(n1,n2) # Compares the arrays as a whole."
   ],
   "id": "ef5ee0e06c98680d",
   "outputs": [
    {
     "data": {
      "text/plain": [
       "False"
      ]
     },
     "execution_count": 78,
     "metadata": {},
     "output_type": "execute_result"
    }
   ],
   "execution_count": 78
  },
  {
   "metadata": {},
   "cell_type": "markdown",
   "source": [
    "## Pandas\n",
    "* Pandas stands for Panel Data and is the core library for data analysis and data manipulation.\n",
    "* Data Manipulation can be performed on single-dimensional and multi-dimensional data structures.\n",
    "* Single-dimensional data structures are called Series Objects.\n",
    "* Multi-dimensional data structures are called DataFrames."
   ],
   "id": "e96d5995a449d9cc"
  },
  {
   "metadata": {},
   "cell_type": "markdown",
   "source": [
    "Series Object - One-Dimensional Data Structure\n",
    "* A Series Object is a one-dimensional array-like object containing a sequence of values and an associated array of data labels, called its index."
   ],
   "id": "cdf0240d805daa61"
  },
  {
   "metadata": {
    "ExecuteTime": {
     "end_time": "2025-09-18T20:15:00.233147Z",
     "start_time": "2025-09-18T20:14:47.499885Z"
    }
   },
   "cell_type": "code",
   "source": [
    "import pandas as pd\n",
    "s1 = pd.Series([1,2,3,4,5])\n",
    "s1"
   ],
   "id": "cce0dd55a8507f27",
   "outputs": [
    {
     "data": {
      "text/plain": [
       "0    1\n",
       "1    2\n",
       "2    3\n",
       "3    4\n",
       "4    5\n",
       "dtype: int64"
      ]
     },
     "execution_count": 79,
     "metadata": {},
     "output_type": "execute_result"
    }
   ],
   "execution_count": 79
  },
  {
   "metadata": {},
   "cell_type": "markdown",
   "source": [
    "* In the above results, in the first line, the Value is 1 and the Index is 0.\n",
    "* The Left column is the Index, the right colum is the Value.\n",
    "* Indexing always starts at 0."
   ],
   "id": "bae12ec4e7ed1c6"
  },
  {
   "metadata": {
    "ExecuteTime": {
     "end_time": "2025-09-18T20:15:23.922504Z",
     "start_time": "2025-09-18T20:15:23.917794Z"
    }
   },
   "cell_type": "code",
   "source": "type(s1)",
   "id": "3bfad06844f4cdc4",
   "outputs": [
    {
     "data": {
      "text/plain": [
       "pandas.core.series.Series"
      ]
     },
     "execution_count": 80,
     "metadata": {},
     "output_type": "execute_result"
    }
   ],
   "execution_count": 80
  },
  {
   "metadata": {
    "ExecuteTime": {
     "end_time": "2025-09-18T20:18:16.955433Z",
     "start_time": "2025-09-18T20:18:16.935084Z"
    }
   },
   "cell_type": "code",
   "source": "import pandas as pd",
   "id": "4e083cde74510b3a",
   "outputs": [],
   "execution_count": 81
  },
  {
   "metadata": {
    "ExecuteTime": {
     "end_time": "2025-09-18T20:18:37.947145Z",
     "start_time": "2025-09-18T20:18:37.944664Z"
    }
   },
   "cell_type": "code",
   "source": "l1 = [1,2,3,4,5]",
   "id": "56a529d872323354",
   "outputs": [],
   "execution_count": 82
  },
  {
   "metadata": {
    "ExecuteTime": {
     "end_time": "2025-09-18T20:19:11.897506Z",
     "start_time": "2025-09-18T20:19:11.878075Z"
    }
   },
   "cell_type": "code",
   "source": "s1 = pd.Series(l1)",
   "id": "ab44a2f03fd9622d",
   "outputs": [],
   "execution_count": 85
  },
  {
   "metadata": {
    "ExecuteTime": {
     "end_time": "2025-09-18T20:19:15.367223Z",
     "start_time": "2025-09-18T20:19:15.363217Z"
    }
   },
   "cell_type": "code",
   "source": "s1",
   "id": "3b17480c32dc395e",
   "outputs": [
    {
     "data": {
      "text/plain": [
       "0    1\n",
       "1    2\n",
       "2    3\n",
       "3    4\n",
       "4    5\n",
       "dtype: int64"
      ]
     },
     "execution_count": 86,
     "metadata": {},
     "output_type": "execute_result"
    }
   ],
   "execution_count": 86
  },
  {
   "metadata": {
    "ExecuteTime": {
     "end_time": "2025-09-18T20:20:06.371255Z",
     "start_time": "2025-09-18T20:20:06.367292Z"
    }
   },
   "cell_type": "code",
   "source": "s1 = pd.Series([10,30,43,12,9302])",
   "id": "8f54eb9823564460",
   "outputs": [],
   "execution_count": 88
  },
  {
   "metadata": {
    "ExecuteTime": {
     "end_time": "2025-09-18T20:20:10.724981Z",
     "start_time": "2025-09-18T20:20:10.719601Z"
    }
   },
   "cell_type": "code",
   "source": "s1",
   "id": "83645aa6ca5d532d",
   "outputs": [
    {
     "data": {
      "text/plain": [
       "0      10\n",
       "1      30\n",
       "2      43\n",
       "3      12\n",
       "4    9302\n",
       "dtype: int64"
      ]
     },
     "execution_count": 89,
     "metadata": {},
     "output_type": "execute_result"
    }
   ],
   "execution_count": 89
  },
  {
   "metadata": {},
   "cell_type": "markdown",
   "source": [
    "Changing Index\n",
    "* Changing the index of an element."
   ],
   "id": "960c91e783b9a9b0"
  },
  {
   "metadata": {
    "ExecuteTime": {
     "end_time": "2025-09-18T20:21:42.939664Z",
     "start_time": "2025-09-18T20:21:42.924149Z"
    }
   },
   "cell_type": "code",
   "source": [
    "import pandas as pd\n",
    "s1 = pd.Series([1,2,3,4,5])\n",
    "s1"
   ],
   "id": "42f649fbc1540280",
   "outputs": [
    {
     "data": {
      "text/plain": [
       "0    1\n",
       "1    2\n",
       "2    3\n",
       "3    4\n",
       "4    5\n",
       "dtype: int64"
      ]
     },
     "execution_count": 90,
     "metadata": {},
     "output_type": "execute_result"
    }
   ],
   "execution_count": 90
  },
  {
   "metadata": {
    "ExecuteTime": {
     "end_time": "2025-09-18T20:22:38.764219Z",
     "start_time": "2025-09-18T20:22:38.752998Z"
    }
   },
   "cell_type": "code",
   "source": [
    "import pandas as pd\n",
    "s1 = pd.Series([1,2,3,4,5], index = ['a','b','c','d','e'])\n",
    "s1"
   ],
   "id": "71d5ed7302ea8d83",
   "outputs": [
    {
     "data": {
      "text/plain": [
       "a    1\n",
       "b    2\n",
       "c    3\n",
       "d    4\n",
       "e    5\n",
       "dtype: int64"
      ]
     },
     "execution_count": 93,
     "metadata": {},
     "output_type": "execute_result"
    }
   ],
   "execution_count": 93
  },
  {
   "metadata": {
    "ExecuteTime": {
     "end_time": "2025-09-18T20:24:00.356233Z",
     "start_time": "2025-09-18T20:24:00.353480Z"
    }
   },
   "cell_type": "code",
   "source": "s1 = pd.Series([1,2,3,4,5])",
   "id": "9802a548f574ff0",
   "outputs": [],
   "execution_count": 95
  },
  {
   "metadata": {
    "ExecuteTime": {
     "end_time": "2025-09-18T20:24:02.132206Z",
     "start_time": "2025-09-18T20:24:02.127503Z"
    }
   },
   "cell_type": "code",
   "source": "s1",
   "id": "d8b6d93d72877f6f",
   "outputs": [
    {
     "data": {
      "text/plain": [
       "0    1\n",
       "1    2\n",
       "2    3\n",
       "3    4\n",
       "4    5\n",
       "dtype: int64"
      ]
     },
     "execution_count": 96,
     "metadata": {},
     "output_type": "execute_result"
    }
   ],
   "execution_count": 96
  },
  {
   "metadata": {
    "ExecuteTime": {
     "end_time": "2025-09-18T20:25:13.558674Z",
     "start_time": "2025-09-18T20:25:13.554407Z"
    }
   },
   "cell_type": "code",
   "source": "s1 = pd.Series([1,2,3,4,5], index = ['coffee','soda','pizza','d','e'])",
   "id": "fd7f3c776d544764",
   "outputs": [],
   "execution_count": 99
  },
  {
   "metadata": {
    "ExecuteTime": {
     "end_time": "2025-09-18T20:25:15.139197Z",
     "start_time": "2025-09-18T20:25:15.135421Z"
    }
   },
   "cell_type": "code",
   "source": "s1",
   "id": "edab546e134d2b01",
   "outputs": [
    {
     "data": {
      "text/plain": [
       "coffee    1\n",
       "soda      2\n",
       "pizza     3\n",
       "d         4\n",
       "e         5\n",
       "dtype: int64"
      ]
     },
     "execution_count": 100,
     "metadata": {},
     "output_type": "execute_result"
    }
   ],
   "execution_count": 100
  },
  {
   "metadata": {},
   "cell_type": "markdown",
   "source": "Series Object from a Dictionary",
   "id": "6d341be2b55e95b1"
  },
  {
   "metadata": {
    "ExecuteTime": {
     "end_time": "2025-09-18T20:27:05.280477Z",
     "start_time": "2025-09-18T20:27:05.266900Z"
    }
   },
   "cell_type": "code",
   "source": [
    "import pandas as pd\n",
    "pd.Series({'a':10,'b':20,'c':30}) # The Key Values have been taken as the Indexes; a, b, c, etc."
   ],
   "id": "1854d9f25bdace27",
   "outputs": [
    {
     "data": {
      "text/plain": [
       "a    10\n",
       "b    20\n",
       "c    30\n",
       "dtype: int64"
      ]
     },
     "execution_count": 101,
     "metadata": {},
     "output_type": "execute_result"
    }
   ],
   "execution_count": 101
  },
  {
   "metadata": {
    "ExecuteTime": {
     "end_time": "2025-09-18T20:28:16.773866Z",
     "start_time": "2025-09-18T20:28:16.770978Z"
    }
   },
   "cell_type": "code",
   "source": "s2 = pd.Series({'a':100,'b':200,'c':300})",
   "id": "18506c3c473b42f3",
   "outputs": [],
   "execution_count": 102
  },
  {
   "metadata": {
    "ExecuteTime": {
     "end_time": "2025-09-18T20:28:19.966034Z",
     "start_time": "2025-09-18T20:28:19.961691Z"
    }
   },
   "cell_type": "code",
   "source": "s2",
   "id": "3713b2cdea372036",
   "outputs": [
    {
     "data": {
      "text/plain": [
       "a    100\n",
       "b    200\n",
       "c    300\n",
       "dtype: int64"
      ]
     },
     "execution_count": 103,
     "metadata": {},
     "output_type": "execute_result"
    }
   ],
   "execution_count": 103
  },
  {
   "metadata": {},
   "cell_type": "markdown",
   "source": "Change the index values of the series object",
   "id": "3176ef2e67148a8"
  },
  {
   "metadata": {
    "ExecuteTime": {
     "end_time": "2025-09-18T20:32:33.591918Z",
     "start_time": "2025-09-18T20:32:33.564807Z"
    }
   },
   "cell_type": "code",
   "source": [
    "import pandas as pd\n",
    "pd.Series({'a':10,'b':20,'c':30}, index = ['b','b','d','a']) # Notice if you don't have a corresponding key value, you get a NaN value."
   ],
   "id": "95ef1344c7be6e67",
   "outputs": [
    {
     "data": {
      "text/plain": [
       "b    20.0\n",
       "b    20.0\n",
       "d     NaN\n",
       "a    10.0\n",
       "dtype: float64"
      ]
     },
     "execution_count": 104,
     "metadata": {},
     "output_type": "execute_result"
    }
   ],
   "execution_count": 104
  },
  {
   "metadata": {
    "ExecuteTime": {
     "end_time": "2025-09-18T20:33:53.919601Z",
     "start_time": "2025-09-18T20:33:53.915819Z"
    }
   },
   "cell_type": "code",
   "source": "s2 = pd.Series({'a':100,'b':200,'c':300}, index = ['d','c','a','b'])",
   "id": "c01bbef331b984c6",
   "outputs": [],
   "execution_count": 105
  },
  {
   "metadata": {
    "ExecuteTime": {
     "end_time": "2025-09-18T20:33:56.424321Z",
     "start_time": "2025-09-18T20:33:56.419777Z"
    }
   },
   "cell_type": "code",
   "source": "s2",
   "id": "ed25ad4b7544ad82",
   "outputs": [
    {
     "data": {
      "text/plain": [
       "d      NaN\n",
       "c    300.0\n",
       "a    100.0\n",
       "b    200.0\n",
       "dtype: float64"
      ]
     },
     "execution_count": 106,
     "metadata": {},
     "output_type": "execute_result"
    }
   ],
   "execution_count": 106
  },
  {
   "metadata": {},
   "cell_type": "markdown",
   "source": "Extracting Individual Elements",
   "id": "b5e619cf0b9ef71a"
  },
  {
   "metadata": {
    "ExecuteTime": {
     "end_time": "2025-09-18T21:03:15.474110Z",
     "start_time": "2025-09-18T21:03:15.460656Z"
    }
   },
   "cell_type": "code",
   "source": [
    "s1 = pd.Series([1,2,3,4,5,6,7,8,9])\n",
    "s1[3].item() # extracting a single element"
   ],
   "id": "63a03ba2974f3aca",
   "outputs": [
    {
     "data": {
      "text/plain": [
       "4"
      ]
     },
     "execution_count": 111,
     "metadata": {},
     "output_type": "execute_result"
    }
   ],
   "execution_count": 111
  },
  {
   "metadata": {
    "ExecuteTime": {
     "end_time": "2025-09-18T21:04:02.741132Z",
     "start_time": "2025-09-18T21:04:02.734149Z"
    }
   },
   "cell_type": "code",
   "source": [
    "s1 = pd.Series([1,2,3,4,5,6,7,8,9])\n",
    "s1[-3:] # extracting elements from the end of the list"
   ],
   "id": "6ea5b8ad357e02cf",
   "outputs": [
    {
     "data": {
      "text/plain": [
       "6    7\n",
       "7    8\n",
       "8    9\n",
       "dtype: int64"
      ]
     },
     "execution_count": 113,
     "metadata": {},
     "output_type": "execute_result"
    }
   ],
   "execution_count": 113
  },
  {
   "metadata": {
    "ExecuteTime": {
     "end_time": "2025-09-18T21:04:26.162801Z",
     "start_time": "2025-09-18T21:04:26.157637Z"
    }
   },
   "cell_type": "code",
   "source": [
    "s1 = pd.Series([1,2,3,4,5,6,7,8,9])\n",
    "s1[:4] # extracting elements from the beginning of the list"
   ],
   "id": "2bd5696a7b249904",
   "outputs": [
    {
     "data": {
      "text/plain": [
       "0    1\n",
       "1    2\n",
       "2    3\n",
       "3    4\n",
       "dtype: int64"
      ]
     },
     "execution_count": 114,
     "metadata": {},
     "output_type": "execute_result"
    }
   ],
   "execution_count": 114
  },
  {
   "metadata": {},
   "cell_type": "markdown",
   "source": "Adding Scalar Values to a Series Element or Object",
   "id": "ab8ec21b05e8848e"
  },
  {
   "metadata": {
    "ExecuteTime": {
     "end_time": "2025-09-18T21:10:48.376415Z",
     "start_time": "2025-09-18T21:10:48.359178Z"
    }
   },
   "cell_type": "code",
   "source": "s1 + 5",
   "id": "1736dfffe9a74da3",
   "outputs": [
    {
     "data": {
      "text/plain": [
       "0     6\n",
       "1     7\n",
       "2     8\n",
       "3     9\n",
       "4    10\n",
       "5    11\n",
       "6    12\n",
       "7    13\n",
       "8    14\n",
       "dtype: int64"
      ]
     },
     "execution_count": 115,
     "metadata": {},
     "output_type": "execute_result"
    }
   ],
   "execution_count": 115
  },
  {
   "metadata": {
    "ExecuteTime": {
     "end_time": "2025-09-18T21:11:33.219626Z",
     "start_time": "2025-09-18T21:11:33.216114Z"
    }
   },
   "cell_type": "code",
   "source": [
    "s1 = pd.Series([1,2,3,4,5,6,7,8,9])\n",
    "s2 = pd.Series([10,20,30,40,50,60,70,80,90])"
   ],
   "id": "1444c004c52c2864",
   "outputs": [],
   "execution_count": 116
  },
  {
   "metadata": {
    "ExecuteTime": {
     "end_time": "2025-09-18T21:11:54.057109Z",
     "start_time": "2025-09-18T21:11:54.052447Z"
    }
   },
   "cell_type": "code",
   "source": "s1 + s2",
   "id": "e37db4f87fd9c044",
   "outputs": [
    {
     "data": {
      "text/plain": [
       "0    11\n",
       "1    22\n",
       "2    33\n",
       "3    44\n",
       "4    55\n",
       "5    66\n",
       "6    77\n",
       "7    88\n",
       "8    99\n",
       "dtype: int64"
      ]
     },
     "execution_count": 117,
     "metadata": {},
     "output_type": "execute_result"
    }
   ],
   "execution_count": 117
  },
  {
   "metadata": {
    "ExecuteTime": {
     "end_time": "2025-09-19T17:51:24.234622Z",
     "start_time": "2025-09-19T17:51:24.210719Z"
    }
   },
   "cell_type": "code",
   "source": "s1",
   "id": "2f75c3c0d8aa6b93",
   "outputs": [
    {
     "data": {
      "text/plain": [
       "0    1\n",
       "1    2\n",
       "2    3\n",
       "3    4\n",
       "4    5\n",
       "5    6\n",
       "6    7\n",
       "7    8\n",
       "8    9\n",
       "dtype: int64"
      ]
     },
     "execution_count": 118,
     "metadata": {},
     "output_type": "execute_result"
    }
   ],
   "execution_count": 118
  },
  {
   "metadata": {
    "ExecuteTime": {
     "end_time": "2025-09-19T17:51:31.518540Z",
     "start_time": "2025-09-19T17:51:31.504049Z"
    }
   },
   "cell_type": "code",
   "source": "s1 + 10",
   "id": "3bce71ed0f9b6b69",
   "outputs": [
    {
     "data": {
      "text/plain": [
       "0    11\n",
       "1    12\n",
       "2    13\n",
       "3    14\n",
       "4    15\n",
       "5    16\n",
       "6    17\n",
       "7    18\n",
       "8    19\n",
       "dtype: int64"
      ]
     },
     "execution_count": 119,
     "metadata": {},
     "output_type": "execute_result"
    }
   ],
   "execution_count": 119
  },
  {
   "metadata": {
    "ExecuteTime": {
     "end_time": "2025-09-19T17:51:39.865031Z",
     "start_time": "2025-09-19T17:51:39.859078Z"
    }
   },
   "cell_type": "code",
   "source": "s1 - 100",
   "id": "4523cd9cd916f97e",
   "outputs": [
    {
     "data": {
      "text/plain": [
       "0   -99\n",
       "1   -98\n",
       "2   -97\n",
       "3   -96\n",
       "4   -95\n",
       "5   -94\n",
       "6   -93\n",
       "7   -92\n",
       "8   -91\n",
       "dtype: int64"
      ]
     },
     "execution_count": 120,
     "metadata": {},
     "output_type": "execute_result"
    }
   ],
   "execution_count": 120
  },
  {
   "metadata": {
    "ExecuteTime": {
     "end_time": "2025-09-19T17:51:48.141758Z",
     "start_time": "2025-09-19T17:51:48.135960Z"
    }
   },
   "cell_type": "code",
   "source": "s1 * 2",
   "id": "cba51527ef59b450",
   "outputs": [
    {
     "data": {
      "text/plain": [
       "0     2\n",
       "1     4\n",
       "2     6\n",
       "3     8\n",
       "4    10\n",
       "5    12\n",
       "6    14\n",
       "7    16\n",
       "8    18\n",
       "dtype: int64"
      ]
     },
     "execution_count": 121,
     "metadata": {},
     "output_type": "execute_result"
    }
   ],
   "execution_count": 121
  },
  {
   "metadata": {
    "ExecuteTime": {
     "end_time": "2025-09-19T17:52:33.030336Z",
     "start_time": "2025-09-19T17:52:33.009408Z"
    }
   },
   "cell_type": "code",
   "source": "s2 = pd.Series([10,20,30,40,50,60,70,80,90])",
   "id": "9377b952064dc8a3",
   "outputs": [],
   "execution_count": 122
  },
  {
   "metadata": {
    "ExecuteTime": {
     "end_time": "2025-09-19T17:52:36.650848Z",
     "start_time": "2025-09-19T17:52:36.645262Z"
    }
   },
   "cell_type": "code",
   "source": "s1,s2",
   "id": "1bcbe2bf4b6442f",
   "outputs": [
    {
     "data": {
      "text/plain": [
       "(0    1\n",
       " 1    2\n",
       " 2    3\n",
       " 3    4\n",
       " 4    5\n",
       " 5    6\n",
       " 6    7\n",
       " 7    8\n",
       " 8    9\n",
       " dtype: int64,\n",
       " 0    10\n",
       " 1    20\n",
       " 2    30\n",
       " 3    40\n",
       " 4    50\n",
       " 5    60\n",
       " 6    70\n",
       " 7    80\n",
       " 8    90\n",
       " dtype: int64)"
      ]
     },
     "execution_count": 123,
     "metadata": {},
     "output_type": "execute_result"
    }
   ],
   "execution_count": 123
  },
  {
   "metadata": {
    "ExecuteTime": {
     "end_time": "2025-09-19T17:52:46.647640Z",
     "start_time": "2025-09-19T17:52:46.641732Z"
    }
   },
   "cell_type": "code",
   "source": "s1 + s2",
   "id": "e34e2bf029056b96",
   "outputs": [
    {
     "data": {
      "text/plain": [
       "0    11\n",
       "1    22\n",
       "2    33\n",
       "3    44\n",
       "4    55\n",
       "5    66\n",
       "6    77\n",
       "7    88\n",
       "8    99\n",
       "dtype: int64"
      ]
     },
     "execution_count": 124,
     "metadata": {},
     "output_type": "execute_result"
    }
   ],
   "execution_count": 124
  },
  {
   "metadata": {
    "ExecuteTime": {
     "end_time": "2025-09-19T17:53:24.894577Z",
     "start_time": "2025-09-19T17:53:24.881035Z"
    }
   },
   "cell_type": "code",
   "source": "s1 - s2",
   "id": "96676f65fa77bc0c",
   "outputs": [
    {
     "data": {
      "text/plain": [
       "0    -9\n",
       "1   -18\n",
       "2   -27\n",
       "3   -36\n",
       "4   -45\n",
       "5   -54\n",
       "6   -63\n",
       "7   -72\n",
       "8   -81\n",
       "dtype: int64"
      ]
     },
     "execution_count": 125,
     "metadata": {},
     "output_type": "execute_result"
    }
   ],
   "execution_count": 125
  },
  {
   "metadata": {},
   "cell_type": "markdown",
   "source": [
    "#### Dataframes\n",
    "* The Dataframe is a two-dimensional, with rows and columns.\n",
    "* The Keys become the column names.\n",
    "* The Values become the row values.\n",
    "* The Index becomes the row names."
   ],
   "id": "7940d8af41c21d84"
  },
  {
   "metadata": {
    "ExecuteTime": {
     "end_time": "2025-09-19T18:00:24.441762Z",
     "start_time": "2025-09-19T18:00:24.433045Z"
    }
   },
   "cell_type": "code",
   "source": [
    "import pandas as pd\n",
    "\n",
    "pd.DataFrame({\"Name\":['Bob','Sam','Anne'], \"Grades\":[76,25,92]})"
   ],
   "id": "ab74604a1097f92",
   "outputs": [
    {
     "data": {
      "text/plain": [
       "   Name  Grades\n",
       "0   Bob      76\n",
       "1   Sam      25\n",
       "2  Anne      92"
      ],
      "text/html": [
       "<div>\n",
       "<style scoped>\n",
       "    .dataframe tbody tr th:only-of-type {\n",
       "        vertical-align: middle;\n",
       "    }\n",
       "\n",
       "    .dataframe tbody tr th {\n",
       "        vertical-align: top;\n",
       "    }\n",
       "\n",
       "    .dataframe thead th {\n",
       "        text-align: right;\n",
       "    }\n",
       "</style>\n",
       "<table border=\"1\" class=\"dataframe\">\n",
       "  <thead>\n",
       "    <tr style=\"text-align: right;\">\n",
       "      <th></th>\n",
       "      <th>Name</th>\n",
       "      <th>Grades</th>\n",
       "    </tr>\n",
       "  </thead>\n",
       "  <tbody>\n",
       "    <tr>\n",
       "      <th>0</th>\n",
       "      <td>Bob</td>\n",
       "      <td>76</td>\n",
       "    </tr>\n",
       "    <tr>\n",
       "      <th>1</th>\n",
       "      <td>Sam</td>\n",
       "      <td>25</td>\n",
       "    </tr>\n",
       "    <tr>\n",
       "      <th>2</th>\n",
       "      <td>Anne</td>\n",
       "      <td>92</td>\n",
       "    </tr>\n",
       "  </tbody>\n",
       "</table>\n",
       "</div>"
      ]
     },
     "execution_count": 127,
     "metadata": {},
     "output_type": "execute_result"
    }
   ],
   "execution_count": 127
  },
  {
   "metadata": {
    "ExecuteTime": {
     "end_time": "2025-09-19T18:01:39.844320Z",
     "start_time": "2025-09-19T18:01:39.840885Z"
    }
   },
   "cell_type": "code",
   "source": "df1 = pd.DataFrame({\"Name\":['Sam','Julia','Anne','Matt'], \"Grades\":[99,32,100,78]})",
   "id": "c7a20f7d4df6d445",
   "outputs": [],
   "execution_count": 129
  },
  {
   "metadata": {
    "ExecuteTime": {
     "end_time": "2025-09-19T18:01:44.171020Z",
     "start_time": "2025-09-19T18:01:44.165877Z"
    }
   },
   "cell_type": "code",
   "source": "df1",
   "id": "4c50379abaf5fc60",
   "outputs": [
    {
     "data": {
      "text/plain": [
       "    Name  Grades\n",
       "0    Sam      99\n",
       "1  Julia      32\n",
       "2   Anne     100\n",
       "3   Matt      78"
      ],
      "text/html": [
       "<div>\n",
       "<style scoped>\n",
       "    .dataframe tbody tr th:only-of-type {\n",
       "        vertical-align: middle;\n",
       "    }\n",
       "\n",
       "    .dataframe tbody tr th {\n",
       "        vertical-align: top;\n",
       "    }\n",
       "\n",
       "    .dataframe thead th {\n",
       "        text-align: right;\n",
       "    }\n",
       "</style>\n",
       "<table border=\"1\" class=\"dataframe\">\n",
       "  <thead>\n",
       "    <tr style=\"text-align: right;\">\n",
       "      <th></th>\n",
       "      <th>Name</th>\n",
       "      <th>Grades</th>\n",
       "    </tr>\n",
       "  </thead>\n",
       "  <tbody>\n",
       "    <tr>\n",
       "      <th>0</th>\n",
       "      <td>Sam</td>\n",
       "      <td>99</td>\n",
       "    </tr>\n",
       "    <tr>\n",
       "      <th>1</th>\n",
       "      <td>Julia</td>\n",
       "      <td>32</td>\n",
       "    </tr>\n",
       "    <tr>\n",
       "      <th>2</th>\n",
       "      <td>Anne</td>\n",
       "      <td>100</td>\n",
       "    </tr>\n",
       "    <tr>\n",
       "      <th>3</th>\n",
       "      <td>Matt</td>\n",
       "      <td>78</td>\n",
       "    </tr>\n",
       "  </tbody>\n",
       "</table>\n",
       "</div>"
      ]
     },
     "execution_count": 130,
     "metadata": {},
     "output_type": "execute_result"
    }
   ],
   "execution_count": 130
  },
  {
   "metadata": {},
   "cell_type": "markdown",
   "source": [
    "Dataframe built-in functions\n",
    "* head() will show the first 5 rows of the dataframe.\n",
    "* tail() will show the last 5 rows of the dataframe.\n",
    "* shape will show the number of rows and columns in the dataframe.\n",
    "* describe() will show the summary statistics of the dataframe.\n",
    "* info() will show the information about the dataframe.\n",
    "* loc[] will show the location of the dataframe.\n",
    "* iloc[] will show the index location of the dataframe."
   ],
   "id": "89ef876d193422c0"
  },
  {
   "metadata": {
    "ExecuteTime": {
     "end_time": "2025-09-19T18:07:20.991035Z",
     "start_time": "2025-09-19T18:07:20.952376Z"
    }
   },
   "cell_type": "code",
   "source": "iris = pd.read_csv(\"data/iris.csv\")",
   "id": "48ab2f549c1e1343",
   "outputs": [],
   "execution_count": 131
  },
  {
   "metadata": {
    "ExecuteTime": {
     "end_time": "2025-09-19T18:07:29.736734Z",
     "start_time": "2025-09-19T18:07:29.722575Z"
    }
   },
   "cell_type": "code",
   "source": "iris.head()",
   "id": "f6db41b3ae33b45a",
   "outputs": [
    {
     "data": {
      "text/plain": [
       "   Sepal.Length  Sepal.Width  Petal.Length  Petal.Width Species\n",
       "0           5.1          3.5           1.4          0.2  setosa\n",
       "1           4.9          3.0           1.4          0.2  setosa\n",
       "2           4.7          3.2           1.3          0.2  setosa\n",
       "3           4.6          3.1           1.5          0.2  setosa\n",
       "4           5.0          3.6           1.4          0.2  setosa"
      ],
      "text/html": [
       "<div>\n",
       "<style scoped>\n",
       "    .dataframe tbody tr th:only-of-type {\n",
       "        vertical-align: middle;\n",
       "    }\n",
       "\n",
       "    .dataframe tbody tr th {\n",
       "        vertical-align: top;\n",
       "    }\n",
       "\n",
       "    .dataframe thead th {\n",
       "        text-align: right;\n",
       "    }\n",
       "</style>\n",
       "<table border=\"1\" class=\"dataframe\">\n",
       "  <thead>\n",
       "    <tr style=\"text-align: right;\">\n",
       "      <th></th>\n",
       "      <th>Sepal.Length</th>\n",
       "      <th>Sepal.Width</th>\n",
       "      <th>Petal.Length</th>\n",
       "      <th>Petal.Width</th>\n",
       "      <th>Species</th>\n",
       "    </tr>\n",
       "  </thead>\n",
       "  <tbody>\n",
       "    <tr>\n",
       "      <th>0</th>\n",
       "      <td>5.1</td>\n",
       "      <td>3.5</td>\n",
       "      <td>1.4</td>\n",
       "      <td>0.2</td>\n",
       "      <td>setosa</td>\n",
       "    </tr>\n",
       "    <tr>\n",
       "      <th>1</th>\n",
       "      <td>4.9</td>\n",
       "      <td>3.0</td>\n",
       "      <td>1.4</td>\n",
       "      <td>0.2</td>\n",
       "      <td>setosa</td>\n",
       "    </tr>\n",
       "    <tr>\n",
       "      <th>2</th>\n",
       "      <td>4.7</td>\n",
       "      <td>3.2</td>\n",
       "      <td>1.3</td>\n",
       "      <td>0.2</td>\n",
       "      <td>setosa</td>\n",
       "    </tr>\n",
       "    <tr>\n",
       "      <th>3</th>\n",
       "      <td>4.6</td>\n",
       "      <td>3.1</td>\n",
       "      <td>1.5</td>\n",
       "      <td>0.2</td>\n",
       "      <td>setosa</td>\n",
       "    </tr>\n",
       "    <tr>\n",
       "      <th>4</th>\n",
       "      <td>5.0</td>\n",
       "      <td>3.6</td>\n",
       "      <td>1.4</td>\n",
       "      <td>0.2</td>\n",
       "      <td>setosa</td>\n",
       "    </tr>\n",
       "  </tbody>\n",
       "</table>\n",
       "</div>"
      ]
     },
     "execution_count": 132,
     "metadata": {},
     "output_type": "execute_result"
    }
   ],
   "execution_count": 132
  },
  {
   "metadata": {
    "ExecuteTime": {
     "end_time": "2025-09-19T18:07:57.432541Z",
     "start_time": "2025-09-19T18:07:57.425174Z"
    }
   },
   "cell_type": "code",
   "source": "iris.tail()",
   "id": "2880eae8d3a1655f",
   "outputs": [
    {
     "data": {
      "text/plain": [
       "     Sepal.Length  Sepal.Width  Petal.Length  Petal.Width    Species\n",
       "145           6.7          3.0           5.2          2.3  virginica\n",
       "146           6.3          2.5           5.0          1.9  virginica\n",
       "147           6.5          3.0           5.2          2.0  virginica\n",
       "148           6.2          3.4           5.4          2.3  virginica\n",
       "149           5.9          3.0           5.1          1.8  virginica"
      ],
      "text/html": [
       "<div>\n",
       "<style scoped>\n",
       "    .dataframe tbody tr th:only-of-type {\n",
       "        vertical-align: middle;\n",
       "    }\n",
       "\n",
       "    .dataframe tbody tr th {\n",
       "        vertical-align: top;\n",
       "    }\n",
       "\n",
       "    .dataframe thead th {\n",
       "        text-align: right;\n",
       "    }\n",
       "</style>\n",
       "<table border=\"1\" class=\"dataframe\">\n",
       "  <thead>\n",
       "    <tr style=\"text-align: right;\">\n",
       "      <th></th>\n",
       "      <th>Sepal.Length</th>\n",
       "      <th>Sepal.Width</th>\n",
       "      <th>Petal.Length</th>\n",
       "      <th>Petal.Width</th>\n",
       "      <th>Species</th>\n",
       "    </tr>\n",
       "  </thead>\n",
       "  <tbody>\n",
       "    <tr>\n",
       "      <th>145</th>\n",
       "      <td>6.7</td>\n",
       "      <td>3.0</td>\n",
       "      <td>5.2</td>\n",
       "      <td>2.3</td>\n",
       "      <td>virginica</td>\n",
       "    </tr>\n",
       "    <tr>\n",
       "      <th>146</th>\n",
       "      <td>6.3</td>\n",
       "      <td>2.5</td>\n",
       "      <td>5.0</td>\n",
       "      <td>1.9</td>\n",
       "      <td>virginica</td>\n",
       "    </tr>\n",
       "    <tr>\n",
       "      <th>147</th>\n",
       "      <td>6.5</td>\n",
       "      <td>3.0</td>\n",
       "      <td>5.2</td>\n",
       "      <td>2.0</td>\n",
       "      <td>virginica</td>\n",
       "    </tr>\n",
       "    <tr>\n",
       "      <th>148</th>\n",
       "      <td>6.2</td>\n",
       "      <td>3.4</td>\n",
       "      <td>5.4</td>\n",
       "      <td>2.3</td>\n",
       "      <td>virginica</td>\n",
       "    </tr>\n",
       "    <tr>\n",
       "      <th>149</th>\n",
       "      <td>5.9</td>\n",
       "      <td>3.0</td>\n",
       "      <td>5.1</td>\n",
       "      <td>1.8</td>\n",
       "      <td>virginica</td>\n",
       "    </tr>\n",
       "  </tbody>\n",
       "</table>\n",
       "</div>"
      ]
     },
     "execution_count": 133,
     "metadata": {},
     "output_type": "execute_result"
    }
   ],
   "execution_count": 133
  },
  {
   "metadata": {
    "ExecuteTime": {
     "end_time": "2025-09-19T18:08:41.555391Z",
     "start_time": "2025-09-19T18:08:41.552342Z"
    }
   },
   "cell_type": "code",
   "source": "iris.shape",
   "id": "826ff9156916e7b9",
   "outputs": [
    {
     "data": {
      "text/plain": [
       "(150, 5)"
      ]
     },
     "execution_count": 136,
     "metadata": {},
     "output_type": "execute_result"
    }
   ],
   "execution_count": 136
  },
  {
   "metadata": {
    "ExecuteTime": {
     "end_time": "2025-09-19T18:08:52.903869Z",
     "start_time": "2025-09-19T18:08:52.849926Z"
    }
   },
   "cell_type": "code",
   "source": "iris.describe()",
   "id": "b1ea9df46b8ca769",
   "outputs": [
    {
     "data": {
      "text/plain": [
       "       Sepal.Length  Sepal.Width  Petal.Length  Petal.Width\n",
       "count    150.000000   150.000000    150.000000   150.000000\n",
       "mean       5.843333     3.057333      3.758000     1.199333\n",
       "std        0.828066     0.435866      1.765298     0.762238\n",
       "min        4.300000     2.000000      1.000000     0.100000\n",
       "25%        5.100000     2.800000      1.600000     0.300000\n",
       "50%        5.800000     3.000000      4.350000     1.300000\n",
       "75%        6.400000     3.300000      5.100000     1.800000\n",
       "max        7.900000     4.400000      6.900000     2.500000"
      ],
      "text/html": [
       "<div>\n",
       "<style scoped>\n",
       "    .dataframe tbody tr th:only-of-type {\n",
       "        vertical-align: middle;\n",
       "    }\n",
       "\n",
       "    .dataframe tbody tr th {\n",
       "        vertical-align: top;\n",
       "    }\n",
       "\n",
       "    .dataframe thead th {\n",
       "        text-align: right;\n",
       "    }\n",
       "</style>\n",
       "<table border=\"1\" class=\"dataframe\">\n",
       "  <thead>\n",
       "    <tr style=\"text-align: right;\">\n",
       "      <th></th>\n",
       "      <th>Sepal.Length</th>\n",
       "      <th>Sepal.Width</th>\n",
       "      <th>Petal.Length</th>\n",
       "      <th>Petal.Width</th>\n",
       "    </tr>\n",
       "  </thead>\n",
       "  <tbody>\n",
       "    <tr>\n",
       "      <th>count</th>\n",
       "      <td>150.000000</td>\n",
       "      <td>150.000000</td>\n",
       "      <td>150.000000</td>\n",
       "      <td>150.000000</td>\n",
       "    </tr>\n",
       "    <tr>\n",
       "      <th>mean</th>\n",
       "      <td>5.843333</td>\n",
       "      <td>3.057333</td>\n",
       "      <td>3.758000</td>\n",
       "      <td>1.199333</td>\n",
       "    </tr>\n",
       "    <tr>\n",
       "      <th>std</th>\n",
       "      <td>0.828066</td>\n",
       "      <td>0.435866</td>\n",
       "      <td>1.765298</td>\n",
       "      <td>0.762238</td>\n",
       "    </tr>\n",
       "    <tr>\n",
       "      <th>min</th>\n",
       "      <td>4.300000</td>\n",
       "      <td>2.000000</td>\n",
       "      <td>1.000000</td>\n",
       "      <td>0.100000</td>\n",
       "    </tr>\n",
       "    <tr>\n",
       "      <th>25%</th>\n",
       "      <td>5.100000</td>\n",
       "      <td>2.800000</td>\n",
       "      <td>1.600000</td>\n",
       "      <td>0.300000</td>\n",
       "    </tr>\n",
       "    <tr>\n",
       "      <th>50%</th>\n",
       "      <td>5.800000</td>\n",
       "      <td>3.000000</td>\n",
       "      <td>4.350000</td>\n",
       "      <td>1.300000</td>\n",
       "    </tr>\n",
       "    <tr>\n",
       "      <th>75%</th>\n",
       "      <td>6.400000</td>\n",
       "      <td>3.300000</td>\n",
       "      <td>5.100000</td>\n",
       "      <td>1.800000</td>\n",
       "    </tr>\n",
       "    <tr>\n",
       "      <th>max</th>\n",
       "      <td>7.900000</td>\n",
       "      <td>4.400000</td>\n",
       "      <td>6.900000</td>\n",
       "      <td>2.500000</td>\n",
       "    </tr>\n",
       "  </tbody>\n",
       "</table>\n",
       "</div>"
      ]
     },
     "execution_count": 137,
     "metadata": {},
     "output_type": "execute_result"
    }
   ],
   "execution_count": 137
  },
  {
   "metadata": {
    "ExecuteTime": {
     "end_time": "2025-09-19T18:09:22.250611Z",
     "start_time": "2025-09-19T18:09:22.215941Z"
    }
   },
   "cell_type": "code",
   "source": "iris.info()",
   "id": "d43f34af1876daf1",
   "outputs": [
    {
     "name": "stdout",
     "output_type": "stream",
     "text": [
      "<class 'pandas.core.frame.DataFrame'>\n",
      "RangeIndex: 150 entries, 0 to 149\n",
      "Data columns (total 5 columns):\n",
      " #   Column        Non-Null Count  Dtype  \n",
      "---  ------        --------------  -----  \n",
      " 0   Sepal.Length  150 non-null    float64\n",
      " 1   Sepal.Width   150 non-null    float64\n",
      " 2   Petal.Length  150 non-null    float64\n",
      " 3   Petal.Width   150 non-null    float64\n",
      " 4   Species       150 non-null    object \n",
      "dtypes: float64(4), object(1)\n",
      "memory usage: 6.0+ KB\n"
     ]
    }
   ],
   "execution_count": 138
  },
  {
   "metadata": {
    "ExecuteTime": {
     "end_time": "2025-09-19T18:16:49.782542Z",
     "start_time": "2025-09-19T18:16:49.764351Z"
    }
   },
   "cell_type": "code",
   "source": "iris.iloc[0:3,0:2] # This will show the first 3 rows and the first 2 columns. Index 0, 3 rows, 2 columns.",
   "id": "d55bf70b49a37c69",
   "outputs": [
    {
     "data": {
      "text/plain": [
       "   Sepal.Length  Sepal.Width\n",
       "0           5.1          3.5\n",
       "1           4.9          3.0\n",
       "2           4.7          3.2"
      ],
      "text/html": [
       "<div>\n",
       "<style scoped>\n",
       "    .dataframe tbody tr th:only-of-type {\n",
       "        vertical-align: middle;\n",
       "    }\n",
       "\n",
       "    .dataframe tbody tr th {\n",
       "        vertical-align: top;\n",
       "    }\n",
       "\n",
       "    .dataframe thead th {\n",
       "        text-align: right;\n",
       "    }\n",
       "</style>\n",
       "<table border=\"1\" class=\"dataframe\">\n",
       "  <thead>\n",
       "    <tr style=\"text-align: right;\">\n",
       "      <th></th>\n",
       "      <th>Sepal.Length</th>\n",
       "      <th>Sepal.Width</th>\n",
       "    </tr>\n",
       "  </thead>\n",
       "  <tbody>\n",
       "    <tr>\n",
       "      <th>0</th>\n",
       "      <td>5.1</td>\n",
       "      <td>3.5</td>\n",
       "    </tr>\n",
       "    <tr>\n",
       "      <th>1</th>\n",
       "      <td>4.9</td>\n",
       "      <td>3.0</td>\n",
       "    </tr>\n",
       "    <tr>\n",
       "      <th>2</th>\n",
       "      <td>4.7</td>\n",
       "      <td>3.2</td>\n",
       "    </tr>\n",
       "  </tbody>\n",
       "</table>\n",
       "</div>"
      ]
     },
     "execution_count": 140,
     "metadata": {},
     "output_type": "execute_result"
    }
   ],
   "execution_count": 140
  },
  {
   "metadata": {
    "ExecuteTime": {
     "end_time": "2025-09-19T18:17:01.177876Z",
     "start_time": "2025-09-19T18:17:01.167993Z"
    }
   },
   "cell_type": "code",
   "source": "iris.head()",
   "id": "2ba66f5038bf6189",
   "outputs": [
    {
     "data": {
      "text/plain": [
       "   Sepal.Length  Sepal.Width  Petal.Length  Petal.Width Species\n",
       "0           5.1          3.5           1.4          0.2  setosa\n",
       "1           4.9          3.0           1.4          0.2  setosa\n",
       "2           4.7          3.2           1.3          0.2  setosa\n",
       "3           4.6          3.1           1.5          0.2  setosa\n",
       "4           5.0          3.6           1.4          0.2  setosa"
      ],
      "text/html": [
       "<div>\n",
       "<style scoped>\n",
       "    .dataframe tbody tr th:only-of-type {\n",
       "        vertical-align: middle;\n",
       "    }\n",
       "\n",
       "    .dataframe tbody tr th {\n",
       "        vertical-align: top;\n",
       "    }\n",
       "\n",
       "    .dataframe thead th {\n",
       "        text-align: right;\n",
       "    }\n",
       "</style>\n",
       "<table border=\"1\" class=\"dataframe\">\n",
       "  <thead>\n",
       "    <tr style=\"text-align: right;\">\n",
       "      <th></th>\n",
       "      <th>Sepal.Length</th>\n",
       "      <th>Sepal.Width</th>\n",
       "      <th>Petal.Length</th>\n",
       "      <th>Petal.Width</th>\n",
       "      <th>Species</th>\n",
       "    </tr>\n",
       "  </thead>\n",
       "  <tbody>\n",
       "    <tr>\n",
       "      <th>0</th>\n",
       "      <td>5.1</td>\n",
       "      <td>3.5</td>\n",
       "      <td>1.4</td>\n",
       "      <td>0.2</td>\n",
       "      <td>setosa</td>\n",
       "    </tr>\n",
       "    <tr>\n",
       "      <th>1</th>\n",
       "      <td>4.9</td>\n",
       "      <td>3.0</td>\n",
       "      <td>1.4</td>\n",
       "      <td>0.2</td>\n",
       "      <td>setosa</td>\n",
       "    </tr>\n",
       "    <tr>\n",
       "      <th>2</th>\n",
       "      <td>4.7</td>\n",
       "      <td>3.2</td>\n",
       "      <td>1.3</td>\n",
       "      <td>0.2</td>\n",
       "      <td>setosa</td>\n",
       "    </tr>\n",
       "    <tr>\n",
       "      <th>3</th>\n",
       "      <td>4.6</td>\n",
       "      <td>3.1</td>\n",
       "      <td>1.5</td>\n",
       "      <td>0.2</td>\n",
       "      <td>setosa</td>\n",
       "    </tr>\n",
       "    <tr>\n",
       "      <th>4</th>\n",
       "      <td>5.0</td>\n",
       "      <td>3.6</td>\n",
       "      <td>1.4</td>\n",
       "      <td>0.2</td>\n",
       "      <td>setosa</td>\n",
       "    </tr>\n",
       "  </tbody>\n",
       "</table>\n",
       "</div>"
      ]
     },
     "execution_count": 141,
     "metadata": {},
     "output_type": "execute_result"
    }
   ],
   "execution_count": 141
  },
  {
   "metadata": {
    "ExecuteTime": {
     "end_time": "2025-09-19T18:17:31.449021Z",
     "start_time": "2025-09-19T18:17:31.438478Z"
    }
   },
   "cell_type": "code",
   "source": "iris.iloc[0:5, 0:3]",
   "id": "7c835acc2eed0923",
   "outputs": [
    {
     "data": {
      "text/plain": [
       "   Sepal.Length  Sepal.Width  Petal.Length\n",
       "0           5.1          3.5           1.4\n",
       "1           4.9          3.0           1.4\n",
       "2           4.7          3.2           1.3\n",
       "3           4.6          3.1           1.5\n",
       "4           5.0          3.6           1.4"
      ],
      "text/html": [
       "<div>\n",
       "<style scoped>\n",
       "    .dataframe tbody tr th:only-of-type {\n",
       "        vertical-align: middle;\n",
       "    }\n",
       "\n",
       "    .dataframe tbody tr th {\n",
       "        vertical-align: top;\n",
       "    }\n",
       "\n",
       "    .dataframe thead th {\n",
       "        text-align: right;\n",
       "    }\n",
       "</style>\n",
       "<table border=\"1\" class=\"dataframe\">\n",
       "  <thead>\n",
       "    <tr style=\"text-align: right;\">\n",
       "      <th></th>\n",
       "      <th>Sepal.Length</th>\n",
       "      <th>Sepal.Width</th>\n",
       "      <th>Petal.Length</th>\n",
       "    </tr>\n",
       "  </thead>\n",
       "  <tbody>\n",
       "    <tr>\n",
       "      <th>0</th>\n",
       "      <td>5.1</td>\n",
       "      <td>3.5</td>\n",
       "      <td>1.4</td>\n",
       "    </tr>\n",
       "    <tr>\n",
       "      <th>1</th>\n",
       "      <td>4.9</td>\n",
       "      <td>3.0</td>\n",
       "      <td>1.4</td>\n",
       "    </tr>\n",
       "    <tr>\n",
       "      <th>2</th>\n",
       "      <td>4.7</td>\n",
       "      <td>3.2</td>\n",
       "      <td>1.3</td>\n",
       "    </tr>\n",
       "    <tr>\n",
       "      <th>3</th>\n",
       "      <td>4.6</td>\n",
       "      <td>3.1</td>\n",
       "      <td>1.5</td>\n",
       "    </tr>\n",
       "    <tr>\n",
       "      <th>4</th>\n",
       "      <td>5.0</td>\n",
       "      <td>3.6</td>\n",
       "      <td>1.4</td>\n",
       "    </tr>\n",
       "  </tbody>\n",
       "</table>\n",
       "</div>"
      ]
     },
     "execution_count": 142,
     "metadata": {},
     "output_type": "execute_result"
    }
   ],
   "execution_count": 142
  },
  {
   "metadata": {
    "ExecuteTime": {
     "end_time": "2025-09-19T18:19:28.100945Z",
     "start_time": "2025-09-19T18:19:28.081640Z"
    }
   },
   "cell_type": "code",
   "source": "iris.loc[0:3,(\"Sepal.Length\", \"Petal.Length\")]",
   "id": "f0502c10f2134cfa",
   "outputs": [
    {
     "data": {
      "text/plain": [
       "   Sepal.Length  Petal.Length\n",
       "0           5.1           1.4\n",
       "1           4.9           1.4\n",
       "2           4.7           1.3\n",
       "3           4.6           1.5"
      ],
      "text/html": [
       "<div>\n",
       "<style scoped>\n",
       "    .dataframe tbody tr th:only-of-type {\n",
       "        vertical-align: middle;\n",
       "    }\n",
       "\n",
       "    .dataframe tbody tr th {\n",
       "        vertical-align: top;\n",
       "    }\n",
       "\n",
       "    .dataframe thead th {\n",
       "        text-align: right;\n",
       "    }\n",
       "</style>\n",
       "<table border=\"1\" class=\"dataframe\">\n",
       "  <thead>\n",
       "    <tr style=\"text-align: right;\">\n",
       "      <th></th>\n",
       "      <th>Sepal.Length</th>\n",
       "      <th>Petal.Length</th>\n",
       "    </tr>\n",
       "  </thead>\n",
       "  <tbody>\n",
       "    <tr>\n",
       "      <th>0</th>\n",
       "      <td>5.1</td>\n",
       "      <td>1.4</td>\n",
       "    </tr>\n",
       "    <tr>\n",
       "      <th>1</th>\n",
       "      <td>4.9</td>\n",
       "      <td>1.4</td>\n",
       "    </tr>\n",
       "    <tr>\n",
       "      <th>2</th>\n",
       "      <td>4.7</td>\n",
       "      <td>1.3</td>\n",
       "    </tr>\n",
       "    <tr>\n",
       "      <th>3</th>\n",
       "      <td>4.6</td>\n",
       "      <td>1.5</td>\n",
       "    </tr>\n",
       "  </tbody>\n",
       "</table>\n",
       "</div>"
      ]
     },
     "execution_count": 143,
     "metadata": {},
     "output_type": "execute_result"
    }
   ],
   "execution_count": 143
  },
  {
   "metadata": {
    "ExecuteTime": {
     "end_time": "2025-09-19T18:20:47.496922Z",
     "start_time": "2025-09-19T18:20:47.481931Z"
    }
   },
   "cell_type": "code",
   "source": "iris.loc[5:10,(\"Petal.Length\", \"Species\")]",
   "id": "7da95ef2f6080d4c",
   "outputs": [
    {
     "data": {
      "text/plain": [
       "    Petal.Length Species\n",
       "5            1.7  setosa\n",
       "6            1.4  setosa\n",
       "7            1.5  setosa\n",
       "8            1.4  setosa\n",
       "9            1.5  setosa\n",
       "10           1.5  setosa"
      ],
      "text/html": [
       "<div>\n",
       "<style scoped>\n",
       "    .dataframe tbody tr th:only-of-type {\n",
       "        vertical-align: middle;\n",
       "    }\n",
       "\n",
       "    .dataframe tbody tr th {\n",
       "        vertical-align: top;\n",
       "    }\n",
       "\n",
       "    .dataframe thead th {\n",
       "        text-align: right;\n",
       "    }\n",
       "</style>\n",
       "<table border=\"1\" class=\"dataframe\">\n",
       "  <thead>\n",
       "    <tr style=\"text-align: right;\">\n",
       "      <th></th>\n",
       "      <th>Petal.Length</th>\n",
       "      <th>Species</th>\n",
       "    </tr>\n",
       "  </thead>\n",
       "  <tbody>\n",
       "    <tr>\n",
       "      <th>5</th>\n",
       "      <td>1.7</td>\n",
       "      <td>setosa</td>\n",
       "    </tr>\n",
       "    <tr>\n",
       "      <th>6</th>\n",
       "      <td>1.4</td>\n",
       "      <td>setosa</td>\n",
       "    </tr>\n",
       "    <tr>\n",
       "      <th>7</th>\n",
       "      <td>1.5</td>\n",
       "      <td>setosa</td>\n",
       "    </tr>\n",
       "    <tr>\n",
       "      <th>8</th>\n",
       "      <td>1.4</td>\n",
       "      <td>setosa</td>\n",
       "    </tr>\n",
       "    <tr>\n",
       "      <th>9</th>\n",
       "      <td>1.5</td>\n",
       "      <td>setosa</td>\n",
       "    </tr>\n",
       "    <tr>\n",
       "      <th>10</th>\n",
       "      <td>1.5</td>\n",
       "      <td>setosa</td>\n",
       "    </tr>\n",
       "  </tbody>\n",
       "</table>\n",
       "</div>"
      ]
     },
     "execution_count": 145,
     "metadata": {},
     "output_type": "execute_result"
    }
   ],
   "execution_count": 145
  },
  {
   "metadata": {
    "ExecuteTime": {
     "end_time": "2025-09-19T18:23:05.458795Z",
     "start_time": "2025-09-19T18:23:05.421832Z"
    }
   },
   "cell_type": "code",
   "source": "iris.drop('Sepal.Length', axis = 1) # axis = 1 means column. axis = 0 means row. So we are dropping the Sepal.Length column.",
   "id": "b224a2cf548d431f",
   "outputs": [
    {
     "data": {
      "text/plain": [
       "     Sepal.Width  Petal.Length  Petal.Width    Species\n",
       "0            3.5           1.4          0.2     setosa\n",
       "1            3.0           1.4          0.2     setosa\n",
       "2            3.2           1.3          0.2     setosa\n",
       "3            3.1           1.5          0.2     setosa\n",
       "4            3.6           1.4          0.2     setosa\n",
       "..           ...           ...          ...        ...\n",
       "145          3.0           5.2          2.3  virginica\n",
       "146          2.5           5.0          1.9  virginica\n",
       "147          3.0           5.2          2.0  virginica\n",
       "148          3.4           5.4          2.3  virginica\n",
       "149          3.0           5.1          1.8  virginica\n",
       "\n",
       "[150 rows x 4 columns]"
      ],
      "text/html": [
       "<div>\n",
       "<style scoped>\n",
       "    .dataframe tbody tr th:only-of-type {\n",
       "        vertical-align: middle;\n",
       "    }\n",
       "\n",
       "    .dataframe tbody tr th {\n",
       "        vertical-align: top;\n",
       "    }\n",
       "\n",
       "    .dataframe thead th {\n",
       "        text-align: right;\n",
       "    }\n",
       "</style>\n",
       "<table border=\"1\" class=\"dataframe\">\n",
       "  <thead>\n",
       "    <tr style=\"text-align: right;\">\n",
       "      <th></th>\n",
       "      <th>Sepal.Width</th>\n",
       "      <th>Petal.Length</th>\n",
       "      <th>Petal.Width</th>\n",
       "      <th>Species</th>\n",
       "    </tr>\n",
       "  </thead>\n",
       "  <tbody>\n",
       "    <tr>\n",
       "      <th>0</th>\n",
       "      <td>3.5</td>\n",
       "      <td>1.4</td>\n",
       "      <td>0.2</td>\n",
       "      <td>setosa</td>\n",
       "    </tr>\n",
       "    <tr>\n",
       "      <th>1</th>\n",
       "      <td>3.0</td>\n",
       "      <td>1.4</td>\n",
       "      <td>0.2</td>\n",
       "      <td>setosa</td>\n",
       "    </tr>\n",
       "    <tr>\n",
       "      <th>2</th>\n",
       "      <td>3.2</td>\n",
       "      <td>1.3</td>\n",
       "      <td>0.2</td>\n",
       "      <td>setosa</td>\n",
       "    </tr>\n",
       "    <tr>\n",
       "      <th>3</th>\n",
       "      <td>3.1</td>\n",
       "      <td>1.5</td>\n",
       "      <td>0.2</td>\n",
       "      <td>setosa</td>\n",
       "    </tr>\n",
       "    <tr>\n",
       "      <th>4</th>\n",
       "      <td>3.6</td>\n",
       "      <td>1.4</td>\n",
       "      <td>0.2</td>\n",
       "      <td>setosa</td>\n",
       "    </tr>\n",
       "    <tr>\n",
       "      <th>...</th>\n",
       "      <td>...</td>\n",
       "      <td>...</td>\n",
       "      <td>...</td>\n",
       "      <td>...</td>\n",
       "    </tr>\n",
       "    <tr>\n",
       "      <th>145</th>\n",
       "      <td>3.0</td>\n",
       "      <td>5.2</td>\n",
       "      <td>2.3</td>\n",
       "      <td>virginica</td>\n",
       "    </tr>\n",
       "    <tr>\n",
       "      <th>146</th>\n",
       "      <td>2.5</td>\n",
       "      <td>5.0</td>\n",
       "      <td>1.9</td>\n",
       "      <td>virginica</td>\n",
       "    </tr>\n",
       "    <tr>\n",
       "      <th>147</th>\n",
       "      <td>3.0</td>\n",
       "      <td>5.2</td>\n",
       "      <td>2.0</td>\n",
       "      <td>virginica</td>\n",
       "    </tr>\n",
       "    <tr>\n",
       "      <th>148</th>\n",
       "      <td>3.4</td>\n",
       "      <td>5.4</td>\n",
       "      <td>2.3</td>\n",
       "      <td>virginica</td>\n",
       "    </tr>\n",
       "    <tr>\n",
       "      <th>149</th>\n",
       "      <td>3.0</td>\n",
       "      <td>5.1</td>\n",
       "      <td>1.8</td>\n",
       "      <td>virginica</td>\n",
       "    </tr>\n",
       "  </tbody>\n",
       "</table>\n",
       "<p>150 rows × 4 columns</p>\n",
       "</div>"
      ]
     },
     "execution_count": 147,
     "metadata": {},
     "output_type": "execute_result"
    }
   ],
   "execution_count": 147
  },
  {
   "metadata": {
    "ExecuteTime": {
     "end_time": "2025-09-19T18:23:52.566344Z",
     "start_time": "2025-09-19T18:23:52.558626Z"
    }
   },
   "cell_type": "code",
   "source": "iris.head()",
   "id": "a10a0131de45ea6f",
   "outputs": [
    {
     "data": {
      "text/plain": [
       "   Sepal.Length  Sepal.Width  Petal.Length  Petal.Width Species\n",
       "0           5.1          3.5           1.4          0.2  setosa\n",
       "1           4.9          3.0           1.4          0.2  setosa\n",
       "2           4.7          3.2           1.3          0.2  setosa\n",
       "3           4.6          3.1           1.5          0.2  setosa\n",
       "4           5.0          3.6           1.4          0.2  setosa"
      ],
      "text/html": [
       "<div>\n",
       "<style scoped>\n",
       "    .dataframe tbody tr th:only-of-type {\n",
       "        vertical-align: middle;\n",
       "    }\n",
       "\n",
       "    .dataframe tbody tr th {\n",
       "        vertical-align: top;\n",
       "    }\n",
       "\n",
       "    .dataframe thead th {\n",
       "        text-align: right;\n",
       "    }\n",
       "</style>\n",
       "<table border=\"1\" class=\"dataframe\">\n",
       "  <thead>\n",
       "    <tr style=\"text-align: right;\">\n",
       "      <th></th>\n",
       "      <th>Sepal.Length</th>\n",
       "      <th>Sepal.Width</th>\n",
       "      <th>Petal.Length</th>\n",
       "      <th>Petal.Width</th>\n",
       "      <th>Species</th>\n",
       "    </tr>\n",
       "  </thead>\n",
       "  <tbody>\n",
       "    <tr>\n",
       "      <th>0</th>\n",
       "      <td>5.1</td>\n",
       "      <td>3.5</td>\n",
       "      <td>1.4</td>\n",
       "      <td>0.2</td>\n",
       "      <td>setosa</td>\n",
       "    </tr>\n",
       "    <tr>\n",
       "      <th>1</th>\n",
       "      <td>4.9</td>\n",
       "      <td>3.0</td>\n",
       "      <td>1.4</td>\n",
       "      <td>0.2</td>\n",
       "      <td>setosa</td>\n",
       "    </tr>\n",
       "    <tr>\n",
       "      <th>2</th>\n",
       "      <td>4.7</td>\n",
       "      <td>3.2</td>\n",
       "      <td>1.3</td>\n",
       "      <td>0.2</td>\n",
       "      <td>setosa</td>\n",
       "    </tr>\n",
       "    <tr>\n",
       "      <th>3</th>\n",
       "      <td>4.6</td>\n",
       "      <td>3.1</td>\n",
       "      <td>1.5</td>\n",
       "      <td>0.2</td>\n",
       "      <td>setosa</td>\n",
       "    </tr>\n",
       "    <tr>\n",
       "      <th>4</th>\n",
       "      <td>5.0</td>\n",
       "      <td>3.6</td>\n",
       "      <td>1.4</td>\n",
       "      <td>0.2</td>\n",
       "      <td>setosa</td>\n",
       "    </tr>\n",
       "  </tbody>\n",
       "</table>\n",
       "</div>"
      ]
     },
     "execution_count": 148,
     "metadata": {},
     "output_type": "execute_result"
    }
   ],
   "execution_count": 148
  },
  {
   "metadata": {
    "ExecuteTime": {
     "end_time": "2025-09-19T18:24:21.225195Z",
     "start_time": "2025-09-19T18:24:21.188889Z"
    }
   },
   "cell_type": "code",
   "source": "iris.drop('Species', axis = 1)",
   "id": "3b809d60fc51b57f",
   "outputs": [
    {
     "data": {
      "text/plain": [
       "     Sepal.Length  Sepal.Width  Petal.Length  Petal.Width\n",
       "0             5.1          3.5           1.4          0.2\n",
       "1             4.9          3.0           1.4          0.2\n",
       "2             4.7          3.2           1.3          0.2\n",
       "3             4.6          3.1           1.5          0.2\n",
       "4             5.0          3.6           1.4          0.2\n",
       "..            ...          ...           ...          ...\n",
       "145           6.7          3.0           5.2          2.3\n",
       "146           6.3          2.5           5.0          1.9\n",
       "147           6.5          3.0           5.2          2.0\n",
       "148           6.2          3.4           5.4          2.3\n",
       "149           5.9          3.0           5.1          1.8\n",
       "\n",
       "[150 rows x 4 columns]"
      ],
      "text/html": [
       "<div>\n",
       "<style scoped>\n",
       "    .dataframe tbody tr th:only-of-type {\n",
       "        vertical-align: middle;\n",
       "    }\n",
       "\n",
       "    .dataframe tbody tr th {\n",
       "        vertical-align: top;\n",
       "    }\n",
       "\n",
       "    .dataframe thead th {\n",
       "        text-align: right;\n",
       "    }\n",
       "</style>\n",
       "<table border=\"1\" class=\"dataframe\">\n",
       "  <thead>\n",
       "    <tr style=\"text-align: right;\">\n",
       "      <th></th>\n",
       "      <th>Sepal.Length</th>\n",
       "      <th>Sepal.Width</th>\n",
       "      <th>Petal.Length</th>\n",
       "      <th>Petal.Width</th>\n",
       "    </tr>\n",
       "  </thead>\n",
       "  <tbody>\n",
       "    <tr>\n",
       "      <th>0</th>\n",
       "      <td>5.1</td>\n",
       "      <td>3.5</td>\n",
       "      <td>1.4</td>\n",
       "      <td>0.2</td>\n",
       "    </tr>\n",
       "    <tr>\n",
       "      <th>1</th>\n",
       "      <td>4.9</td>\n",
       "      <td>3.0</td>\n",
       "      <td>1.4</td>\n",
       "      <td>0.2</td>\n",
       "    </tr>\n",
       "    <tr>\n",
       "      <th>2</th>\n",
       "      <td>4.7</td>\n",
       "      <td>3.2</td>\n",
       "      <td>1.3</td>\n",
       "      <td>0.2</td>\n",
       "    </tr>\n",
       "    <tr>\n",
       "      <th>3</th>\n",
       "      <td>4.6</td>\n",
       "      <td>3.1</td>\n",
       "      <td>1.5</td>\n",
       "      <td>0.2</td>\n",
       "    </tr>\n",
       "    <tr>\n",
       "      <th>4</th>\n",
       "      <td>5.0</td>\n",
       "      <td>3.6</td>\n",
       "      <td>1.4</td>\n",
       "      <td>0.2</td>\n",
       "    </tr>\n",
       "    <tr>\n",
       "      <th>...</th>\n",
       "      <td>...</td>\n",
       "      <td>...</td>\n",
       "      <td>...</td>\n",
       "      <td>...</td>\n",
       "    </tr>\n",
       "    <tr>\n",
       "      <th>145</th>\n",
       "      <td>6.7</td>\n",
       "      <td>3.0</td>\n",
       "      <td>5.2</td>\n",
       "      <td>2.3</td>\n",
       "    </tr>\n",
       "    <tr>\n",
       "      <th>146</th>\n",
       "      <td>6.3</td>\n",
       "      <td>2.5</td>\n",
       "      <td>5.0</td>\n",
       "      <td>1.9</td>\n",
       "    </tr>\n",
       "    <tr>\n",
       "      <th>147</th>\n",
       "      <td>6.5</td>\n",
       "      <td>3.0</td>\n",
       "      <td>5.2</td>\n",
       "      <td>2.0</td>\n",
       "    </tr>\n",
       "    <tr>\n",
       "      <th>148</th>\n",
       "      <td>6.2</td>\n",
       "      <td>3.4</td>\n",
       "      <td>5.4</td>\n",
       "      <td>2.3</td>\n",
       "    </tr>\n",
       "    <tr>\n",
       "      <th>149</th>\n",
       "      <td>5.9</td>\n",
       "      <td>3.0</td>\n",
       "      <td>5.1</td>\n",
       "      <td>1.8</td>\n",
       "    </tr>\n",
       "  </tbody>\n",
       "</table>\n",
       "<p>150 rows × 4 columns</p>\n",
       "</div>"
      ]
     },
     "execution_count": 149,
     "metadata": {},
     "output_type": "execute_result"
    }
   ],
   "execution_count": 149
  },
  {
   "metadata": {
    "ExecuteTime": {
     "end_time": "2025-09-19T18:25:20.900449Z",
     "start_time": "2025-09-19T18:25:20.881745Z"
    }
   },
   "cell_type": "code",
   "source": "iris.drop([1,2,3], axis = 0)",
   "id": "2728db048bed8cde",
   "outputs": [
    {
     "data": {
      "text/plain": [
       "     Sepal.Length  Sepal.Width  Petal.Length  Petal.Width    Species\n",
       "0             5.1          3.5           1.4          0.2     setosa\n",
       "4             5.0          3.6           1.4          0.2     setosa\n",
       "5             5.4          3.9           1.7          0.4     setosa\n",
       "6             4.6          3.4           1.4          0.3     setosa\n",
       "7             5.0          3.4           1.5          0.2     setosa\n",
       "..            ...          ...           ...          ...        ...\n",
       "145           6.7          3.0           5.2          2.3  virginica\n",
       "146           6.3          2.5           5.0          1.9  virginica\n",
       "147           6.5          3.0           5.2          2.0  virginica\n",
       "148           6.2          3.4           5.4          2.3  virginica\n",
       "149           5.9          3.0           5.1          1.8  virginica\n",
       "\n",
       "[147 rows x 5 columns]"
      ],
      "text/html": [
       "<div>\n",
       "<style scoped>\n",
       "    .dataframe tbody tr th:only-of-type {\n",
       "        vertical-align: middle;\n",
       "    }\n",
       "\n",
       "    .dataframe tbody tr th {\n",
       "        vertical-align: top;\n",
       "    }\n",
       "\n",
       "    .dataframe thead th {\n",
       "        text-align: right;\n",
       "    }\n",
       "</style>\n",
       "<table border=\"1\" class=\"dataframe\">\n",
       "  <thead>\n",
       "    <tr style=\"text-align: right;\">\n",
       "      <th></th>\n",
       "      <th>Sepal.Length</th>\n",
       "      <th>Sepal.Width</th>\n",
       "      <th>Petal.Length</th>\n",
       "      <th>Petal.Width</th>\n",
       "      <th>Species</th>\n",
       "    </tr>\n",
       "  </thead>\n",
       "  <tbody>\n",
       "    <tr>\n",
       "      <th>0</th>\n",
       "      <td>5.1</td>\n",
       "      <td>3.5</td>\n",
       "      <td>1.4</td>\n",
       "      <td>0.2</td>\n",
       "      <td>setosa</td>\n",
       "    </tr>\n",
       "    <tr>\n",
       "      <th>4</th>\n",
       "      <td>5.0</td>\n",
       "      <td>3.6</td>\n",
       "      <td>1.4</td>\n",
       "      <td>0.2</td>\n",
       "      <td>setosa</td>\n",
       "    </tr>\n",
       "    <tr>\n",
       "      <th>5</th>\n",
       "      <td>5.4</td>\n",
       "      <td>3.9</td>\n",
       "      <td>1.7</td>\n",
       "      <td>0.4</td>\n",
       "      <td>setosa</td>\n",
       "    </tr>\n",
       "    <tr>\n",
       "      <th>6</th>\n",
       "      <td>4.6</td>\n",
       "      <td>3.4</td>\n",
       "      <td>1.4</td>\n",
       "      <td>0.3</td>\n",
       "      <td>setosa</td>\n",
       "    </tr>\n",
       "    <tr>\n",
       "      <th>7</th>\n",
       "      <td>5.0</td>\n",
       "      <td>3.4</td>\n",
       "      <td>1.5</td>\n",
       "      <td>0.2</td>\n",
       "      <td>setosa</td>\n",
       "    </tr>\n",
       "    <tr>\n",
       "      <th>...</th>\n",
       "      <td>...</td>\n",
       "      <td>...</td>\n",
       "      <td>...</td>\n",
       "      <td>...</td>\n",
       "      <td>...</td>\n",
       "    </tr>\n",
       "    <tr>\n",
       "      <th>145</th>\n",
       "      <td>6.7</td>\n",
       "      <td>3.0</td>\n",
       "      <td>5.2</td>\n",
       "      <td>2.3</td>\n",
       "      <td>virginica</td>\n",
       "    </tr>\n",
       "    <tr>\n",
       "      <th>146</th>\n",
       "      <td>6.3</td>\n",
       "      <td>2.5</td>\n",
       "      <td>5.0</td>\n",
       "      <td>1.9</td>\n",
       "      <td>virginica</td>\n",
       "    </tr>\n",
       "    <tr>\n",
       "      <th>147</th>\n",
       "      <td>6.5</td>\n",
       "      <td>3.0</td>\n",
       "      <td>5.2</td>\n",
       "      <td>2.0</td>\n",
       "      <td>virginica</td>\n",
       "    </tr>\n",
       "    <tr>\n",
       "      <th>148</th>\n",
       "      <td>6.2</td>\n",
       "      <td>3.4</td>\n",
       "      <td>5.4</td>\n",
       "      <td>2.3</td>\n",
       "      <td>virginica</td>\n",
       "    </tr>\n",
       "    <tr>\n",
       "      <th>149</th>\n",
       "      <td>5.9</td>\n",
       "      <td>3.0</td>\n",
       "      <td>5.1</td>\n",
       "      <td>1.8</td>\n",
       "      <td>virginica</td>\n",
       "    </tr>\n",
       "  </tbody>\n",
       "</table>\n",
       "<p>147 rows × 5 columns</p>\n",
       "</div>"
      ]
     },
     "execution_count": 150,
     "metadata": {},
     "output_type": "execute_result"
    }
   ],
   "execution_count": 150
  },
  {
   "metadata": {
    "ExecuteTime": {
     "end_time": "2025-09-19T18:26:10.786885Z",
     "start_time": "2025-09-19T18:26:10.773986Z"
    }
   },
   "cell_type": "code",
   "source": "iris.drop([3,4,5,6,7], axis = 0)",
   "id": "7f5b59aed6c2e224",
   "outputs": [
    {
     "data": {
      "text/plain": [
       "     Sepal.Length  Sepal.Width  Petal.Length  Petal.Width    Species\n",
       "0             5.1          3.5           1.4          0.2     setosa\n",
       "1             4.9          3.0           1.4          0.2     setosa\n",
       "2             4.7          3.2           1.3          0.2     setosa\n",
       "8             4.4          2.9           1.4          0.2     setosa\n",
       "9             4.9          3.1           1.5          0.1     setosa\n",
       "..            ...          ...           ...          ...        ...\n",
       "145           6.7          3.0           5.2          2.3  virginica\n",
       "146           6.3          2.5           5.0          1.9  virginica\n",
       "147           6.5          3.0           5.2          2.0  virginica\n",
       "148           6.2          3.4           5.4          2.3  virginica\n",
       "149           5.9          3.0           5.1          1.8  virginica\n",
       "\n",
       "[145 rows x 5 columns]"
      ],
      "text/html": [
       "<div>\n",
       "<style scoped>\n",
       "    .dataframe tbody tr th:only-of-type {\n",
       "        vertical-align: middle;\n",
       "    }\n",
       "\n",
       "    .dataframe tbody tr th {\n",
       "        vertical-align: top;\n",
       "    }\n",
       "\n",
       "    .dataframe thead th {\n",
       "        text-align: right;\n",
       "    }\n",
       "</style>\n",
       "<table border=\"1\" class=\"dataframe\">\n",
       "  <thead>\n",
       "    <tr style=\"text-align: right;\">\n",
       "      <th></th>\n",
       "      <th>Sepal.Length</th>\n",
       "      <th>Sepal.Width</th>\n",
       "      <th>Petal.Length</th>\n",
       "      <th>Petal.Width</th>\n",
       "      <th>Species</th>\n",
       "    </tr>\n",
       "  </thead>\n",
       "  <tbody>\n",
       "    <tr>\n",
       "      <th>0</th>\n",
       "      <td>5.1</td>\n",
       "      <td>3.5</td>\n",
       "      <td>1.4</td>\n",
       "      <td>0.2</td>\n",
       "      <td>setosa</td>\n",
       "    </tr>\n",
       "    <tr>\n",
       "      <th>1</th>\n",
       "      <td>4.9</td>\n",
       "      <td>3.0</td>\n",
       "      <td>1.4</td>\n",
       "      <td>0.2</td>\n",
       "      <td>setosa</td>\n",
       "    </tr>\n",
       "    <tr>\n",
       "      <th>2</th>\n",
       "      <td>4.7</td>\n",
       "      <td>3.2</td>\n",
       "      <td>1.3</td>\n",
       "      <td>0.2</td>\n",
       "      <td>setosa</td>\n",
       "    </tr>\n",
       "    <tr>\n",
       "      <th>8</th>\n",
       "      <td>4.4</td>\n",
       "      <td>2.9</td>\n",
       "      <td>1.4</td>\n",
       "      <td>0.2</td>\n",
       "      <td>setosa</td>\n",
       "    </tr>\n",
       "    <tr>\n",
       "      <th>9</th>\n",
       "      <td>4.9</td>\n",
       "      <td>3.1</td>\n",
       "      <td>1.5</td>\n",
       "      <td>0.1</td>\n",
       "      <td>setosa</td>\n",
       "    </tr>\n",
       "    <tr>\n",
       "      <th>...</th>\n",
       "      <td>...</td>\n",
       "      <td>...</td>\n",
       "      <td>...</td>\n",
       "      <td>...</td>\n",
       "      <td>...</td>\n",
       "    </tr>\n",
       "    <tr>\n",
       "      <th>145</th>\n",
       "      <td>6.7</td>\n",
       "      <td>3.0</td>\n",
       "      <td>5.2</td>\n",
       "      <td>2.3</td>\n",
       "      <td>virginica</td>\n",
       "    </tr>\n",
       "    <tr>\n",
       "      <th>146</th>\n",
       "      <td>6.3</td>\n",
       "      <td>2.5</td>\n",
       "      <td>5.0</td>\n",
       "      <td>1.9</td>\n",
       "      <td>virginica</td>\n",
       "    </tr>\n",
       "    <tr>\n",
       "      <th>147</th>\n",
       "      <td>6.5</td>\n",
       "      <td>3.0</td>\n",
       "      <td>5.2</td>\n",
       "      <td>2.0</td>\n",
       "      <td>virginica</td>\n",
       "    </tr>\n",
       "    <tr>\n",
       "      <th>148</th>\n",
       "      <td>6.2</td>\n",
       "      <td>3.4</td>\n",
       "      <td>5.4</td>\n",
       "      <td>2.3</td>\n",
       "      <td>virginica</td>\n",
       "    </tr>\n",
       "    <tr>\n",
       "      <th>149</th>\n",
       "      <td>5.9</td>\n",
       "      <td>3.0</td>\n",
       "      <td>5.1</td>\n",
       "      <td>1.8</td>\n",
       "      <td>virginica</td>\n",
       "    </tr>\n",
       "  </tbody>\n",
       "</table>\n",
       "<p>145 rows × 5 columns</p>\n",
       "</div>"
      ]
     },
     "execution_count": 151,
     "metadata": {},
     "output_type": "execute_result"
    }
   ],
   "execution_count": 151
  },
  {
   "metadata": {
    "ExecuteTime": {
     "end_time": "2025-09-22T19:21:24.907287Z",
     "start_time": "2025-09-22T19:21:24.857338Z"
    }
   },
   "cell_type": "code",
   "source": "iris.head()",
   "id": "bf2da1ce2f951fb0",
   "outputs": [
    {
     "data": {
      "text/plain": [
       "   Sepal.Length  Sepal.Width  Petal.Length  Petal.Width Species\n",
       "0           5.1          3.5           1.4          0.2  setosa\n",
       "1           4.9          3.0           1.4          0.2  setosa\n",
       "2           4.7          3.2           1.3          0.2  setosa\n",
       "3           4.6          3.1           1.5          0.2  setosa\n",
       "4           5.0          3.6           1.4          0.2  setosa"
      ],
      "text/html": [
       "<div>\n",
       "<style scoped>\n",
       "    .dataframe tbody tr th:only-of-type {\n",
       "        vertical-align: middle;\n",
       "    }\n",
       "\n",
       "    .dataframe tbody tr th {\n",
       "        vertical-align: top;\n",
       "    }\n",
       "\n",
       "    .dataframe thead th {\n",
       "        text-align: right;\n",
       "    }\n",
       "</style>\n",
       "<table border=\"1\" class=\"dataframe\">\n",
       "  <thead>\n",
       "    <tr style=\"text-align: right;\">\n",
       "      <th></th>\n",
       "      <th>Sepal.Length</th>\n",
       "      <th>Sepal.Width</th>\n",
       "      <th>Petal.Length</th>\n",
       "      <th>Petal.Width</th>\n",
       "      <th>Species</th>\n",
       "    </tr>\n",
       "  </thead>\n",
       "  <tbody>\n",
       "    <tr>\n",
       "      <th>0</th>\n",
       "      <td>5.1</td>\n",
       "      <td>3.5</td>\n",
       "      <td>1.4</td>\n",
       "      <td>0.2</td>\n",
       "      <td>setosa</td>\n",
       "    </tr>\n",
       "    <tr>\n",
       "      <th>1</th>\n",
       "      <td>4.9</td>\n",
       "      <td>3.0</td>\n",
       "      <td>1.4</td>\n",
       "      <td>0.2</td>\n",
       "      <td>setosa</td>\n",
       "    </tr>\n",
       "    <tr>\n",
       "      <th>2</th>\n",
       "      <td>4.7</td>\n",
       "      <td>3.2</td>\n",
       "      <td>1.3</td>\n",
       "      <td>0.2</td>\n",
       "      <td>setosa</td>\n",
       "    </tr>\n",
       "    <tr>\n",
       "      <th>3</th>\n",
       "      <td>4.6</td>\n",
       "      <td>3.1</td>\n",
       "      <td>1.5</td>\n",
       "      <td>0.2</td>\n",
       "      <td>setosa</td>\n",
       "    </tr>\n",
       "    <tr>\n",
       "      <th>4</th>\n",
       "      <td>5.0</td>\n",
       "      <td>3.6</td>\n",
       "      <td>1.4</td>\n",
       "      <td>0.2</td>\n",
       "      <td>setosa</td>\n",
       "    </tr>\n",
       "  </tbody>\n",
       "</table>\n",
       "</div>"
      ]
     },
     "execution_count": 161,
     "metadata": {},
     "output_type": "execute_result"
    }
   ],
   "execution_count": 161
  },
  {
   "metadata": {
    "ExecuteTime": {
     "end_time": "2025-09-22T19:21:31.933551Z",
     "start_time": "2025-09-22T19:21:31.900625Z"
    }
   },
   "cell_type": "code",
   "source": "iris.min()",
   "id": "3f39a80537f85349",
   "outputs": [
    {
     "data": {
      "text/plain": [
       "Sepal.Length       4.3\n",
       "Sepal.Width        2.0\n",
       "Petal.Length       1.0\n",
       "Petal.Width        0.1\n",
       "Species         setosa\n",
       "dtype: object"
      ]
     },
     "execution_count": 162,
     "metadata": {},
     "output_type": "execute_result"
    }
   ],
   "execution_count": 162
  },
  {
   "metadata": {
    "ExecuteTime": {
     "end_time": "2025-09-22T19:21:34.308637Z",
     "start_time": "2025-09-22T19:21:34.298477Z"
    }
   },
   "cell_type": "code",
   "source": "iris.max()",
   "id": "be26f32d0f7d757f",
   "outputs": [
    {
     "data": {
      "text/plain": [
       "Sepal.Length          7.9\n",
       "Sepal.Width           4.4\n",
       "Petal.Length          6.9\n",
       "Petal.Width           2.5\n",
       "Species         virginica\n",
       "dtype: object"
      ]
     },
     "execution_count": 163,
     "metadata": {},
     "output_type": "execute_result"
    }
   ],
   "execution_count": 163
  },
  {
   "metadata": {
    "ExecuteTime": {
     "end_time": "2025-09-22T19:23:43.695662Z",
     "start_time": "2025-09-22T19:23:43.667960Z"
    }
   },
   "cell_type": "code",
   "source": [
    "#iris.mean() doesn't work because the DataFrame contains a non-numeric column (Species).\n",
    "iris.mean(numeric_only=True)              # column-wise means for numeric columns"
   ],
   "id": "5f84b507b4439af3",
   "outputs": [
    {
     "data": {
      "text/plain": [
       "Sepal.Length    5.843333\n",
       "Sepal.Width     3.057333\n",
       "Petal.Length    3.758000\n",
       "Petal.Width     1.199333\n",
       "dtype: float64"
      ]
     },
     "execution_count": 167,
     "metadata": {},
     "output_type": "execute_result"
    }
   ],
   "execution_count": 167
  },
  {
   "metadata": {
    "ExecuteTime": {
     "end_time": "2025-09-22T19:24:07.687263Z",
     "start_time": "2025-09-22T19:24:07.643315Z"
    }
   },
   "cell_type": "code",
   "source": "iris.median(numeric_only=True)",
   "id": "b26d3b2d0c0b1435",
   "outputs": [
    {
     "data": {
      "text/plain": [
       "Sepal.Length    5.80\n",
       "Sepal.Width     3.00\n",
       "Petal.Length    4.35\n",
       "Petal.Width     1.30\n",
       "dtype: float64"
      ]
     },
     "execution_count": 170,
     "metadata": {},
     "output_type": "execute_result"
    }
   ],
   "execution_count": 170
  },
  {
   "metadata": {
    "ExecuteTime": {
     "end_time": "2025-09-22T19:44:05.782395Z",
     "start_time": "2025-09-22T19:44:05.752829Z"
    }
   },
   "cell_type": "code",
   "source": "iris.head()",
   "id": "ed438a15d293fe28",
   "outputs": [
    {
     "data": {
      "text/plain": [
       "   Sepal.Length  Sepal.Width  Petal.Length  Petal.Width Species\n",
       "0           5.1          3.5           1.4          0.2  setosa\n",
       "1           4.9          3.0           1.4          0.2  setosa\n",
       "2           4.7          3.2           1.3          0.2  setosa\n",
       "3           4.6          3.1           1.5          0.2  setosa\n",
       "4           5.0          3.6           1.4          0.2  setosa"
      ],
      "text/html": [
       "<div>\n",
       "<style scoped>\n",
       "    .dataframe tbody tr th:only-of-type {\n",
       "        vertical-align: middle;\n",
       "    }\n",
       "\n",
       "    .dataframe tbody tr th {\n",
       "        vertical-align: top;\n",
       "    }\n",
       "\n",
       "    .dataframe thead th {\n",
       "        text-align: right;\n",
       "    }\n",
       "</style>\n",
       "<table border=\"1\" class=\"dataframe\">\n",
       "  <thead>\n",
       "    <tr style=\"text-align: right;\">\n",
       "      <th></th>\n",
       "      <th>Sepal.Length</th>\n",
       "      <th>Sepal.Width</th>\n",
       "      <th>Petal.Length</th>\n",
       "      <th>Petal.Width</th>\n",
       "      <th>Species</th>\n",
       "    </tr>\n",
       "  </thead>\n",
       "  <tbody>\n",
       "    <tr>\n",
       "      <th>0</th>\n",
       "      <td>5.1</td>\n",
       "      <td>3.5</td>\n",
       "      <td>1.4</td>\n",
       "      <td>0.2</td>\n",
       "      <td>setosa</td>\n",
       "    </tr>\n",
       "    <tr>\n",
       "      <th>1</th>\n",
       "      <td>4.9</td>\n",
       "      <td>3.0</td>\n",
       "      <td>1.4</td>\n",
       "      <td>0.2</td>\n",
       "      <td>setosa</td>\n",
       "    </tr>\n",
       "    <tr>\n",
       "      <th>2</th>\n",
       "      <td>4.7</td>\n",
       "      <td>3.2</td>\n",
       "      <td>1.3</td>\n",
       "      <td>0.2</td>\n",
       "      <td>setosa</td>\n",
       "    </tr>\n",
       "    <tr>\n",
       "      <th>3</th>\n",
       "      <td>4.6</td>\n",
       "      <td>3.1</td>\n",
       "      <td>1.5</td>\n",
       "      <td>0.2</td>\n",
       "      <td>setosa</td>\n",
       "    </tr>\n",
       "    <tr>\n",
       "      <th>4</th>\n",
       "      <td>5.0</td>\n",
       "      <td>3.6</td>\n",
       "      <td>1.4</td>\n",
       "      <td>0.2</td>\n",
       "      <td>setosa</td>\n",
       "    </tr>\n",
       "  </tbody>\n",
       "</table>\n",
       "</div>"
      ]
     },
     "execution_count": 171,
     "metadata": {},
     "output_type": "execute_result"
    }
   ],
   "execution_count": 171
  },
  {
   "metadata": {
    "ExecuteTime": {
     "end_time": "2025-09-22T19:44:28.809704Z",
     "start_time": "2025-09-22T19:44:28.793114Z"
    }
   },
   "cell_type": "code",
   "source": [
    "def half(s):\n",
    "    return s*0.5"
   ],
   "id": "3fd669bff9fd023c",
   "outputs": [],
   "execution_count": 172
  },
  {
   "metadata": {
    "ExecuteTime": {
     "end_time": "2025-09-22T19:45:13.997948Z",
     "start_time": "2025-09-22T19:45:13.984405Z"
    }
   },
   "cell_type": "code",
   "source": "iris[['Sepal.Length','Petal.Length']].apply(half)",
   "id": "1c2978a69e0789ae",
   "outputs": [
    {
     "data": {
      "text/plain": [
       "     Sepal.Length  Petal.Length\n",
       "0            2.55          0.70\n",
       "1            2.45          0.70\n",
       "2            2.35          0.65\n",
       "3            2.30          0.75\n",
       "4            2.50          0.70\n",
       "..            ...           ...\n",
       "145          3.35          2.60\n",
       "146          3.15          2.50\n",
       "147          3.25          2.60\n",
       "148          3.10          2.70\n",
       "149          2.95          2.55\n",
       "\n",
       "[150 rows x 2 columns]"
      ],
      "text/html": [
       "<div>\n",
       "<style scoped>\n",
       "    .dataframe tbody tr th:only-of-type {\n",
       "        vertical-align: middle;\n",
       "    }\n",
       "\n",
       "    .dataframe tbody tr th {\n",
       "        vertical-align: top;\n",
       "    }\n",
       "\n",
       "    .dataframe thead th {\n",
       "        text-align: right;\n",
       "    }\n",
       "</style>\n",
       "<table border=\"1\" class=\"dataframe\">\n",
       "  <thead>\n",
       "    <tr style=\"text-align: right;\">\n",
       "      <th></th>\n",
       "      <th>Sepal.Length</th>\n",
       "      <th>Petal.Length</th>\n",
       "    </tr>\n",
       "  </thead>\n",
       "  <tbody>\n",
       "    <tr>\n",
       "      <th>0</th>\n",
       "      <td>2.55</td>\n",
       "      <td>0.70</td>\n",
       "    </tr>\n",
       "    <tr>\n",
       "      <th>1</th>\n",
       "      <td>2.45</td>\n",
       "      <td>0.70</td>\n",
       "    </tr>\n",
       "    <tr>\n",
       "      <th>2</th>\n",
       "      <td>2.35</td>\n",
       "      <td>0.65</td>\n",
       "    </tr>\n",
       "    <tr>\n",
       "      <th>3</th>\n",
       "      <td>2.30</td>\n",
       "      <td>0.75</td>\n",
       "    </tr>\n",
       "    <tr>\n",
       "      <th>4</th>\n",
       "      <td>2.50</td>\n",
       "      <td>0.70</td>\n",
       "    </tr>\n",
       "    <tr>\n",
       "      <th>...</th>\n",
       "      <td>...</td>\n",
       "      <td>...</td>\n",
       "    </tr>\n",
       "    <tr>\n",
       "      <th>145</th>\n",
       "      <td>3.35</td>\n",
       "      <td>2.60</td>\n",
       "    </tr>\n",
       "    <tr>\n",
       "      <th>146</th>\n",
       "      <td>3.15</td>\n",
       "      <td>2.50</td>\n",
       "    </tr>\n",
       "    <tr>\n",
       "      <th>147</th>\n",
       "      <td>3.25</td>\n",
       "      <td>2.60</td>\n",
       "    </tr>\n",
       "    <tr>\n",
       "      <th>148</th>\n",
       "      <td>3.10</td>\n",
       "      <td>2.70</td>\n",
       "    </tr>\n",
       "    <tr>\n",
       "      <th>149</th>\n",
       "      <td>2.95</td>\n",
       "      <td>2.55</td>\n",
       "    </tr>\n",
       "  </tbody>\n",
       "</table>\n",
       "<p>150 rows × 2 columns</p>\n",
       "</div>"
      ]
     },
     "execution_count": 174,
     "metadata": {},
     "output_type": "execute_result"
    }
   ],
   "execution_count": 174
  },
  {
   "metadata": {
    "ExecuteTime": {
     "end_time": "2025-09-22T19:46:01.751902Z",
     "start_time": "2025-09-22T19:46:01.728549Z"
    }
   },
   "cell_type": "code",
   "source": "iris.head()",
   "id": "d21d40c12d765d2c",
   "outputs": [
    {
     "data": {
      "text/plain": [
       "   Sepal.Length  Sepal.Width  Petal.Length  Petal.Width Species\n",
       "0           5.1          3.5           1.4          0.2  setosa\n",
       "1           4.9          3.0           1.4          0.2  setosa\n",
       "2           4.7          3.2           1.3          0.2  setosa\n",
       "3           4.6          3.1           1.5          0.2  setosa\n",
       "4           5.0          3.6           1.4          0.2  setosa"
      ],
      "text/html": [
       "<div>\n",
       "<style scoped>\n",
       "    .dataframe tbody tr th:only-of-type {\n",
       "        vertical-align: middle;\n",
       "    }\n",
       "\n",
       "    .dataframe tbody tr th {\n",
       "        vertical-align: top;\n",
       "    }\n",
       "\n",
       "    .dataframe thead th {\n",
       "        text-align: right;\n",
       "    }\n",
       "</style>\n",
       "<table border=\"1\" class=\"dataframe\">\n",
       "  <thead>\n",
       "    <tr style=\"text-align: right;\">\n",
       "      <th></th>\n",
       "      <th>Sepal.Length</th>\n",
       "      <th>Sepal.Width</th>\n",
       "      <th>Petal.Length</th>\n",
       "      <th>Petal.Width</th>\n",
       "      <th>Species</th>\n",
       "    </tr>\n",
       "  </thead>\n",
       "  <tbody>\n",
       "    <tr>\n",
       "      <th>0</th>\n",
       "      <td>5.1</td>\n",
       "      <td>3.5</td>\n",
       "      <td>1.4</td>\n",
       "      <td>0.2</td>\n",
       "      <td>setosa</td>\n",
       "    </tr>\n",
       "    <tr>\n",
       "      <th>1</th>\n",
       "      <td>4.9</td>\n",
       "      <td>3.0</td>\n",
       "      <td>1.4</td>\n",
       "      <td>0.2</td>\n",
       "      <td>setosa</td>\n",
       "    </tr>\n",
       "    <tr>\n",
       "      <th>2</th>\n",
       "      <td>4.7</td>\n",
       "      <td>3.2</td>\n",
       "      <td>1.3</td>\n",
       "      <td>0.2</td>\n",
       "      <td>setosa</td>\n",
       "    </tr>\n",
       "    <tr>\n",
       "      <th>3</th>\n",
       "      <td>4.6</td>\n",
       "      <td>3.1</td>\n",
       "      <td>1.5</td>\n",
       "      <td>0.2</td>\n",
       "      <td>setosa</td>\n",
       "    </tr>\n",
       "    <tr>\n",
       "      <th>4</th>\n",
       "      <td>5.0</td>\n",
       "      <td>3.6</td>\n",
       "      <td>1.4</td>\n",
       "      <td>0.2</td>\n",
       "      <td>setosa</td>\n",
       "    </tr>\n",
       "  </tbody>\n",
       "</table>\n",
       "</div>"
      ]
     },
     "execution_count": 175,
     "metadata": {},
     "output_type": "execute_result"
    }
   ],
   "execution_count": 175
  },
  {
   "metadata": {
    "ExecuteTime": {
     "end_time": "2025-09-22T19:46:25.435733Z",
     "start_time": "2025-09-22T19:46:25.417574Z"
    }
   },
   "cell_type": "code",
   "source": [
    "def double_make(s):\n",
    "    return s*2"
   ],
   "id": "969c796ce135bfae",
   "outputs": [],
   "execution_count": 176
  },
  {
   "metadata": {
    "ExecuteTime": {
     "end_time": "2025-09-22T19:47:56.641621Z",
     "start_time": "2025-09-22T19:47:56.609558Z"
    }
   },
   "cell_type": "code",
   "source": "iris[['Sepal.Width','Petal.Width']].apply(double_make)",
   "id": "c688dd133888126e",
   "outputs": [
    {
     "data": {
      "text/plain": [
       "     Sepal.Width  Petal.Width\n",
       "0            7.0          0.4\n",
       "1            6.0          0.4\n",
       "2            6.4          0.4\n",
       "3            6.2          0.4\n",
       "4            7.2          0.4\n",
       "..           ...          ...\n",
       "145          6.0          4.6\n",
       "146          5.0          3.8\n",
       "147          6.0          4.0\n",
       "148          6.8          4.6\n",
       "149          6.0          3.6\n",
       "\n",
       "[150 rows x 2 columns]"
      ],
      "text/html": [
       "<div>\n",
       "<style scoped>\n",
       "    .dataframe tbody tr th:only-of-type {\n",
       "        vertical-align: middle;\n",
       "    }\n",
       "\n",
       "    .dataframe tbody tr th {\n",
       "        vertical-align: top;\n",
       "    }\n",
       "\n",
       "    .dataframe thead th {\n",
       "        text-align: right;\n",
       "    }\n",
       "</style>\n",
       "<table border=\"1\" class=\"dataframe\">\n",
       "  <thead>\n",
       "    <tr style=\"text-align: right;\">\n",
       "      <th></th>\n",
       "      <th>Sepal.Width</th>\n",
       "      <th>Petal.Width</th>\n",
       "    </tr>\n",
       "  </thead>\n",
       "  <tbody>\n",
       "    <tr>\n",
       "      <th>0</th>\n",
       "      <td>7.0</td>\n",
       "      <td>0.4</td>\n",
       "    </tr>\n",
       "    <tr>\n",
       "      <th>1</th>\n",
       "      <td>6.0</td>\n",
       "      <td>0.4</td>\n",
       "    </tr>\n",
       "    <tr>\n",
       "      <th>2</th>\n",
       "      <td>6.4</td>\n",
       "      <td>0.4</td>\n",
       "    </tr>\n",
       "    <tr>\n",
       "      <th>3</th>\n",
       "      <td>6.2</td>\n",
       "      <td>0.4</td>\n",
       "    </tr>\n",
       "    <tr>\n",
       "      <th>4</th>\n",
       "      <td>7.2</td>\n",
       "      <td>0.4</td>\n",
       "    </tr>\n",
       "    <tr>\n",
       "      <th>...</th>\n",
       "      <td>...</td>\n",
       "      <td>...</td>\n",
       "    </tr>\n",
       "    <tr>\n",
       "      <th>145</th>\n",
       "      <td>6.0</td>\n",
       "      <td>4.6</td>\n",
       "    </tr>\n",
       "    <tr>\n",
       "      <th>146</th>\n",
       "      <td>5.0</td>\n",
       "      <td>3.8</td>\n",
       "    </tr>\n",
       "    <tr>\n",
       "      <th>147</th>\n",
       "      <td>6.0</td>\n",
       "      <td>4.0</td>\n",
       "    </tr>\n",
       "    <tr>\n",
       "      <th>148</th>\n",
       "      <td>6.8</td>\n",
       "      <td>4.6</td>\n",
       "    </tr>\n",
       "    <tr>\n",
       "      <th>149</th>\n",
       "      <td>6.0</td>\n",
       "      <td>3.6</td>\n",
       "    </tr>\n",
       "  </tbody>\n",
       "</table>\n",
       "<p>150 rows × 2 columns</p>\n",
       "</div>"
      ]
     },
     "execution_count": 178,
     "metadata": {},
     "output_type": "execute_result"
    }
   ],
   "execution_count": 178
  },
  {
   "metadata": {
    "ExecuteTime": {
     "end_time": "2025-09-22T19:51:22.855427Z",
     "start_time": "2025-09-22T19:51:22.838190Z"
    }
   },
   "cell_type": "code",
   "source": "iris.head()",
   "id": "fe18732cbe797b25",
   "outputs": [
    {
     "data": {
      "text/plain": [
       "   Sepal.Length  Sepal.Width  Petal.Length  Petal.Width Species\n",
       "0           5.1          3.5           1.4          0.2  setosa\n",
       "1           4.9          3.0           1.4          0.2  setosa\n",
       "2           4.7          3.2           1.3          0.2  setosa\n",
       "3           4.6          3.1           1.5          0.2  setosa\n",
       "4           5.0          3.6           1.4          0.2  setosa"
      ],
      "text/html": [
       "<div>\n",
       "<style scoped>\n",
       "    .dataframe tbody tr th:only-of-type {\n",
       "        vertical-align: middle;\n",
       "    }\n",
       "\n",
       "    .dataframe tbody tr th {\n",
       "        vertical-align: top;\n",
       "    }\n",
       "\n",
       "    .dataframe thead th {\n",
       "        text-align: right;\n",
       "    }\n",
       "</style>\n",
       "<table border=\"1\" class=\"dataframe\">\n",
       "  <thead>\n",
       "    <tr style=\"text-align: right;\">\n",
       "      <th></th>\n",
       "      <th>Sepal.Length</th>\n",
       "      <th>Sepal.Width</th>\n",
       "      <th>Petal.Length</th>\n",
       "      <th>Petal.Width</th>\n",
       "      <th>Species</th>\n",
       "    </tr>\n",
       "  </thead>\n",
       "  <tbody>\n",
       "    <tr>\n",
       "      <th>0</th>\n",
       "      <td>5.1</td>\n",
       "      <td>3.5</td>\n",
       "      <td>1.4</td>\n",
       "      <td>0.2</td>\n",
       "      <td>setosa</td>\n",
       "    </tr>\n",
       "    <tr>\n",
       "      <th>1</th>\n",
       "      <td>4.9</td>\n",
       "      <td>3.0</td>\n",
       "      <td>1.4</td>\n",
       "      <td>0.2</td>\n",
       "      <td>setosa</td>\n",
       "    </tr>\n",
       "    <tr>\n",
       "      <th>2</th>\n",
       "      <td>4.7</td>\n",
       "      <td>3.2</td>\n",
       "      <td>1.3</td>\n",
       "      <td>0.2</td>\n",
       "      <td>setosa</td>\n",
       "    </tr>\n",
       "    <tr>\n",
       "      <th>3</th>\n",
       "      <td>4.6</td>\n",
       "      <td>3.1</td>\n",
       "      <td>1.5</td>\n",
       "      <td>0.2</td>\n",
       "      <td>setosa</td>\n",
       "    </tr>\n",
       "    <tr>\n",
       "      <th>4</th>\n",
       "      <td>5.0</td>\n",
       "      <td>3.6</td>\n",
       "      <td>1.4</td>\n",
       "      <td>0.2</td>\n",
       "      <td>setosa</td>\n",
       "    </tr>\n",
       "  </tbody>\n",
       "</table>\n",
       "</div>"
      ]
     },
     "execution_count": 181,
     "metadata": {},
     "output_type": "execute_result"
    }
   ],
   "execution_count": 181
  },
  {
   "metadata": {
    "ExecuteTime": {
     "end_time": "2025-09-22T19:53:42.387292Z",
     "start_time": "2025-09-22T19:53:42.365987Z"
    }
   },
   "cell_type": "code",
   "source": "iris['Species'].value_counts()",
   "id": "65249f14b5bb5048",
   "outputs": [
    {
     "data": {
      "text/plain": [
       "Species\n",
       "setosa        50\n",
       "versicolor    50\n",
       "virginica     50\n",
       "Name: count, dtype: int64"
      ]
     },
     "execution_count": 183,
     "metadata": {},
     "output_type": "execute_result"
    }
   ],
   "execution_count": 183
  },
  {
   "metadata": {
    "ExecuteTime": {
     "end_time": "2025-09-22T19:54:08.188944Z",
     "start_time": "2025-09-22T19:54:08.164224Z"
    }
   },
   "cell_type": "code",
   "source": "iris.sort_values(by = 'Sepal.Length')",
   "id": "454480901a6a1d98",
   "outputs": [
    {
     "data": {
      "text/plain": [
       "     Sepal.Length  Sepal.Width  Petal.Length  Petal.Width    Species\n",
       "13            4.3          3.0           1.1          0.1     setosa\n",
       "42            4.4          3.2           1.3          0.2     setosa\n",
       "38            4.4          3.0           1.3          0.2     setosa\n",
       "8             4.4          2.9           1.4          0.2     setosa\n",
       "41            4.5          2.3           1.3          0.3     setosa\n",
       "..            ...          ...           ...          ...        ...\n",
       "122           7.7          2.8           6.7          2.0  virginica\n",
       "118           7.7          2.6           6.9          2.3  virginica\n",
       "117           7.7          3.8           6.7          2.2  virginica\n",
       "135           7.7          3.0           6.1          2.3  virginica\n",
       "131           7.9          3.8           6.4          2.0  virginica\n",
       "\n",
       "[150 rows x 5 columns]"
      ],
      "text/html": [
       "<div>\n",
       "<style scoped>\n",
       "    .dataframe tbody tr th:only-of-type {\n",
       "        vertical-align: middle;\n",
       "    }\n",
       "\n",
       "    .dataframe tbody tr th {\n",
       "        vertical-align: top;\n",
       "    }\n",
       "\n",
       "    .dataframe thead th {\n",
       "        text-align: right;\n",
       "    }\n",
       "</style>\n",
       "<table border=\"1\" class=\"dataframe\">\n",
       "  <thead>\n",
       "    <tr style=\"text-align: right;\">\n",
       "      <th></th>\n",
       "      <th>Sepal.Length</th>\n",
       "      <th>Sepal.Width</th>\n",
       "      <th>Petal.Length</th>\n",
       "      <th>Petal.Width</th>\n",
       "      <th>Species</th>\n",
       "    </tr>\n",
       "  </thead>\n",
       "  <tbody>\n",
       "    <tr>\n",
       "      <th>13</th>\n",
       "      <td>4.3</td>\n",
       "      <td>3.0</td>\n",
       "      <td>1.1</td>\n",
       "      <td>0.1</td>\n",
       "      <td>setosa</td>\n",
       "    </tr>\n",
       "    <tr>\n",
       "      <th>42</th>\n",
       "      <td>4.4</td>\n",
       "      <td>3.2</td>\n",
       "      <td>1.3</td>\n",
       "      <td>0.2</td>\n",
       "      <td>setosa</td>\n",
       "    </tr>\n",
       "    <tr>\n",
       "      <th>38</th>\n",
       "      <td>4.4</td>\n",
       "      <td>3.0</td>\n",
       "      <td>1.3</td>\n",
       "      <td>0.2</td>\n",
       "      <td>setosa</td>\n",
       "    </tr>\n",
       "    <tr>\n",
       "      <th>8</th>\n",
       "      <td>4.4</td>\n",
       "      <td>2.9</td>\n",
       "      <td>1.4</td>\n",
       "      <td>0.2</td>\n",
       "      <td>setosa</td>\n",
       "    </tr>\n",
       "    <tr>\n",
       "      <th>41</th>\n",
       "      <td>4.5</td>\n",
       "      <td>2.3</td>\n",
       "      <td>1.3</td>\n",
       "      <td>0.3</td>\n",
       "      <td>setosa</td>\n",
       "    </tr>\n",
       "    <tr>\n",
       "      <th>...</th>\n",
       "      <td>...</td>\n",
       "      <td>...</td>\n",
       "      <td>...</td>\n",
       "      <td>...</td>\n",
       "      <td>...</td>\n",
       "    </tr>\n",
       "    <tr>\n",
       "      <th>122</th>\n",
       "      <td>7.7</td>\n",
       "      <td>2.8</td>\n",
       "      <td>6.7</td>\n",
       "      <td>2.0</td>\n",
       "      <td>virginica</td>\n",
       "    </tr>\n",
       "    <tr>\n",
       "      <th>118</th>\n",
       "      <td>7.7</td>\n",
       "      <td>2.6</td>\n",
       "      <td>6.9</td>\n",
       "      <td>2.3</td>\n",
       "      <td>virginica</td>\n",
       "    </tr>\n",
       "    <tr>\n",
       "      <th>117</th>\n",
       "      <td>7.7</td>\n",
       "      <td>3.8</td>\n",
       "      <td>6.7</td>\n",
       "      <td>2.2</td>\n",
       "      <td>virginica</td>\n",
       "    </tr>\n",
       "    <tr>\n",
       "      <th>135</th>\n",
       "      <td>7.7</td>\n",
       "      <td>3.0</td>\n",
       "      <td>6.1</td>\n",
       "      <td>2.3</td>\n",
       "      <td>virginica</td>\n",
       "    </tr>\n",
       "    <tr>\n",
       "      <th>131</th>\n",
       "      <td>7.9</td>\n",
       "      <td>3.8</td>\n",
       "      <td>6.4</td>\n",
       "      <td>2.0</td>\n",
       "      <td>virginica</td>\n",
       "    </tr>\n",
       "  </tbody>\n",
       "</table>\n",
       "<p>150 rows × 5 columns</p>\n",
       "</div>"
      ]
     },
     "execution_count": 184,
     "metadata": {},
     "output_type": "execute_result"
    }
   ],
   "execution_count": 184
  },
  {
   "metadata": {},
   "cell_type": "code",
   "outputs": [],
   "execution_count": null,
   "source": "",
   "id": "dbc26e805ff0ba56"
  }
 ],
 "metadata": {
  "kernelspec": {
   "display_name": "Python 3",
   "language": "python",
   "name": "python3"
  },
  "language_info": {
   "codemirror_mode": {
    "name": "ipython",
    "version": 2
   },
   "file_extension": ".py",
   "mimetype": "text/x-python",
   "name": "python",
   "nbconvert_exporter": "python",
   "pygments_lexer": "ipython2",
   "version": "2.7.6"
  }
 },
 "nbformat": 4,
 "nbformat_minor": 5
}
